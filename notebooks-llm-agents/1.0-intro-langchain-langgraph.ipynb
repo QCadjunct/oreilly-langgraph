{
 "cells": [
  {
   "cell_type": "code",
   "execution_count": null,
   "metadata": {},
   "outputs": [],
   "source": [
    "# !pip install -qU \"langchain[openai]\""
   ]
  },
  {
   "cell_type": "markdown",
   "metadata": {},
   "source": []
  },
  {
   "cell_type": "markdown",
   "metadata": {},
   "source": []
  },
  {
   "cell_type": "code",
   "execution_count": null,
   "metadata": {},
   "outputs": [
    {
     "ename": "",
     "evalue": "",
     "output_type": "error",
     "traceback": [
      "\u001b[1;31mFailed to start the Kernel 'oreilly-agents (Python 3.11.11)'. \n",
      "\u001b[1;31mView Jupyter <a href='command:jupyter.viewOutput'>log</a> for further details. WebSocket is not defined"
     ]
    }
   ],
   "source": [
    "import os\n",
    "import getpass\n",
    "\n",
    "def _set_env(var: str):\n",
    "    if not os.environ.get(var):\n",
    "        os.environ[var] = getpass.getpass(f\"var: \")\n",
    "\n",
    "_set_env(\"OPENAI_API_KEY\")"
   ]
  },
  {
   "cell_type": "code",
   "execution_count": 1,
   "metadata": {},
   "outputs": [
    {
     "data": {
      "text/plain": [
       "AIMessage(content='Hello! How can I assist you today?', additional_kwargs={'refusal': None}, response_metadata={'token_usage': {'completion_tokens': 10, 'prompt_tokens': 9, 'total_tokens': 19, 'completion_tokens_details': {'accepted_prediction_tokens': 0, 'audio_tokens': 0, 'reasoning_tokens': 0, 'rejected_prediction_tokens': 0}, 'prompt_tokens_details': {'audio_tokens': 0, 'cached_tokens': 0}}, 'model_name': 'gpt-4o-mini-2024-07-18', 'system_fingerprint': 'fp_f7d56a8a2c', 'id': 'chatcmpl-BNLapCQQDcrzdvJWlGmIFaurIicnX', 'finish_reason': 'stop', 'logprobs': None}, id='run-4129e4de-952d-40ad-a870-69ee49d8356c-0', usage_metadata={'input_tokens': 9, 'output_tokens': 10, 'total_tokens': 19, 'input_token_details': {'audio': 0, 'cache_read': 0}, 'output_token_details': {'audio': 0, 'reasoning': 0}})"
      ]
     },
     "execution_count": 1,
     "metadata": {},
     "output_type": "execute_result"
    }
   ],
   "source": [
    "from langchain_openai import ChatOpenAI\n",
    "\n",
    "llm = ChatOpenAI(model=\"gpt-4o-mini\")\n",
    "\n",
    "llm.invoke(\"HI!\")"
   ]
  },
  {
   "cell_type": "code",
   "execution_count": 4,
   "metadata": {},
   "outputs": [
    {
     "data": {
      "text/plain": [
       "AIMessage(content=\"I’m based on OpenAI's GPT-3 model. How can I assist you today?\", additional_kwargs={'refusal': None}, response_metadata={'token_usage': {'completion_tokens': 20, 'prompt_tokens': 14, 'total_tokens': 34, 'completion_tokens_details': {'accepted_prediction_tokens': 0, 'audio_tokens': 0, 'reasoning_tokens': 0, 'rejected_prediction_tokens': 0}, 'prompt_tokens_details': {'audio_tokens': 0, 'cached_tokens': 0}}, 'model_name': 'gpt-4o-mini-2024-07-18', 'system_fingerprint': 'fp_dbaca60df0', 'id': 'chatcmpl-BNLc4yJF8B6dQQJLID0HZk2g946AT', 'finish_reason': 'stop', 'logprobs': None}, id='run-28e0e5ca-789b-42f6-b165-9cac9f05188d-0', usage_metadata={'input_tokens': 14, 'output_tokens': 20, 'total_tokens': 34, 'input_token_details': {'audio': 0, 'cache_read': 0}, 'output_token_details': {'audio': 0, 'reasoning': 0}})"
      ]
     },
     "execution_count": 4,
     "metadata": {},
     "output_type": "execute_result"
    }
   ],
   "source": [
    "from langchain.chat_models import init_chat_model\n",
    "\n",
    "model = init_chat_model(\n",
    "    \"gpt-4o-mini\", \n",
    "    model_provider=\"openai\")\n",
    "\n",
    "model.invoke(\"Hi what is your model name?\")"
   ]
  },
  {
   "cell_type": "code",
   "execution_count": 3,
   "metadata": {},
   "outputs": [
    {
     "data": {
      "text/plain": [
       "AIMessage(content=\"I'm an AI assistant created by Anthropic to be helpful, harmless, and honest. I don't have a specific name or model name that I go by.\", additional_kwargs={}, response_metadata={'id': 'msg_01H9AgX4HxR91AHsYH56gEpZ', 'model': 'claude-3-5-sonnet-20240620', 'stop_reason': 'end_turn', 'stop_sequence': None, 'usage': {'cache_creation_input_tokens': 0, 'cache_read_input_tokens': 0, 'input_tokens': 18, 'output_tokens': 38}, 'model_name': 'claude-3-5-sonnet-20240620'}, id='run-a0f52b2e-c540-4bdb-9192-10f7ebd74db0-0', usage_metadata={'input_tokens': 18, 'output_tokens': 38, 'total_tokens': 56, 'input_token_details': {'cache_read': 0, 'cache_creation': 0}})"
      ]
     },
     "execution_count": 3,
     "metadata": {},
     "output_type": "execute_result"
    }
   ],
   "source": [
    "model = init_chat_model(\"claude-3-5-sonnet-20240620\", model_provider=\"anthropic\")\n",
    "\n",
    "model.invoke(\"Hi what is your name? Like the model name?\")"
   ]
  },
  {
   "cell_type": "markdown",
   "metadata": {},
   "source": [
    "# Full LLM App in LangChain"
   ]
  },
  {
   "cell_type": "code",
   "execution_count": 3,
   "metadata": {},
   "outputs": [
    {
     "name": "stdout",
     "output_type": "stream",
     "text": [
      "Enter your LangSmith API key (optional):  ········\n",
      "Enter your LangSmith Project Name (default = \"default\"):  ········\n"
     ]
    }
   ],
   "source": [
    "import getpass\n",
    "import os\n",
    "\n",
    "try:\n",
    "    # load environment variables from .env file (requires `python-dotenv`)\n",
    "    from dotenv import load_dotenv\n",
    "\n",
    "    load_dotenv()\n",
    "except ImportError:\n",
    "    pass\n",
    "\n",
    "os.environ[\"LANGSMITH_TRACING\"] = \"true\"\n",
    "if \"LANGSMITH_API_KEY\" not in os.environ:\n",
    "    os.environ[\"LANGSMITH_API_KEY\"] = getpass.getpass(\n",
    "        prompt=\"Enter your LangSmith API key (optional): \"\n",
    "    )\n",
    "if \"LANGSMITH_PROJECT\" not in os.environ:\n",
    "    os.environ[\"LANGSMITH_PROJECT\"] = getpass.getpass(\n",
    "        prompt='Enter your LangSmith Project Name (default = \"default\"): '\n",
    "    )\n",
    "    if not os.environ.get(\"LANGSMITH_PROJECT\"):\n",
    "        os.environ[\"LANGSMITH_PROJECT\"] = \"default\"\n",
    "if \"OPENAI_API_KEY\" not in os.environ:\n",
    "    os.environ[\"OPENAI_API_KEY\"] = getpass.getpass(\n",
    "        prompt=\"Enter your OpenAI API key (required if using OpenAI): \"\n",
    "    )"
   ]
  },
  {
   "cell_type": "code",
   "execution_count": 5,
   "metadata": {},
   "outputs": [
    {
     "data": {
      "text/plain": [
       "AIMessage(content='Hello! How can I assist you today?', additional_kwargs={'refusal': None}, response_metadata={'token_usage': {'completion_tokens': 10, 'prompt_tokens': 8, 'total_tokens': 18, 'completion_tokens_details': {'accepted_prediction_tokens': 0, 'audio_tokens': 0, 'reasoning_tokens': 0, 'rejected_prediction_tokens': 0}, 'prompt_tokens_details': {'audio_tokens': 0, 'cached_tokens': 0}}, 'model_name': 'gpt-4o-mini-2024-07-18', 'system_fingerprint': 'fp_0392822090', 'id': 'chatcmpl-BNLdUhNVqjm7sGbQ9JYJNKMKHgkC3', 'finish_reason': 'stop', 'logprobs': None}, id='run-e3fc2102-dc7e-4dcf-be31-586bfe12c8c6-0', usage_metadata={'input_tokens': 8, 'output_tokens': 10, 'total_tokens': 18, 'input_token_details': {'audio': 0, 'cache_read': 0}, 'output_token_details': {'audio': 0, 'reasoning': 0}})"
      ]
     },
     "execution_count": 5,
     "metadata": {},
     "output_type": "execute_result"
    }
   ],
   "source": [
    "from langchain.chat_models import init_chat_model\n",
    "\n",
    "model = init_chat_model(\n",
    "    \"gpt-4o-mini\",\n",
    "    model_provider=\"openai\"\n",
    ")\n",
    "\n",
    "model.invoke(\"Hi\")"
   ]
  },
  {
   "cell_type": "code",
   "execution_count": 6,
   "metadata": {},
   "outputs": [
    {
     "data": {
      "text/plain": [
       "AIMessage(content='Ciao! Impariamo sui modelli di linguaggio di grandi dimensioni!', additional_kwargs={'refusal': None}, response_metadata={'token_usage': {'completion_tokens': 18, 'prompt_tokens': 27, 'total_tokens': 45, 'completion_tokens_details': {'accepted_prediction_tokens': 0, 'audio_tokens': 0, 'reasoning_tokens': 0, 'rejected_prediction_tokens': 0}, 'prompt_tokens_details': {'audio_tokens': 0, 'cached_tokens': 0}}, 'model_name': 'gpt-4o-mini-2024-07-18', 'system_fingerprint': 'fp_0392822090', 'id': 'chatcmpl-BNLfsge85D1KImWZUyHLkPOgBFM7Q', 'finish_reason': 'stop', 'logprobs': None}, id='run-660acc99-5f72-401e-8d89-4e3c6292ea98-0', usage_metadata={'input_tokens': 27, 'output_tokens': 18, 'total_tokens': 45, 'input_token_details': {'audio': 0, 'cache_read': 0}, 'output_token_details': {'audio': 0, 'reasoning': 0}})"
      ]
     },
     "execution_count": 6,
     "metadata": {},
     "output_type": "execute_result"
    }
   ],
   "source": [
    "from langchain_core.messages import HumanMessage, SystemMessage\n",
    "\n",
    "messages = [\n",
    "    SystemMessage(\"Translate the following from English into Italian\"),\n",
    "    HumanMessage(\"Hi! Let's learn about large language models!\"),\n",
    "]\n",
    "\n",
    "model.invoke(messages)"
   ]
  },
  {
   "cell_type": "code",
   "execution_count": 7,
   "metadata": {},
   "outputs": [
    {
     "data": {
      "text/plain": [
       "AIMessage(content=\"I'm just a computer program, so I don't have feelings, but I'm here and ready to help you! How can I assist you today?\", additional_kwargs={'refusal': None}, response_metadata={'token_usage': {'completion_tokens': 29, 'prompt_tokens': 11, 'total_tokens': 40, 'completion_tokens_details': {'accepted_prediction_tokens': 0, 'audio_tokens': 0, 'reasoning_tokens': 0, 'rejected_prediction_tokens': 0}, 'prompt_tokens_details': {'audio_tokens': 0, 'cached_tokens': 0}}, 'model_name': 'gpt-4o-mini-2024-07-18', 'system_fingerprint': 'fp_0392822090', 'id': 'chatcmpl-BNLgdz4YaipOcVjTZzucczXS7qOMa', 'finish_reason': 'stop', 'logprobs': None}, id='run-5dc518f3-bd1b-4c64-bfff-0ed67a14d70f-0', usage_metadata={'input_tokens': 11, 'output_tokens': 29, 'total_tokens': 40, 'input_token_details': {'audio': 0, 'cache_read': 0}, 'output_token_details': {'audio': 0, 'reasoning': 0}})"
      ]
     },
     "execution_count": 7,
     "metadata": {},
     "output_type": "execute_result"
    }
   ],
   "source": [
    "model.invoke([{\"role\": \"user\", \"content\": \"How are ya?\"}])"
   ]
  },
  {
   "cell_type": "code",
   "execution_count": 12,
   "metadata": {},
   "outputs": [
    {
     "name": "stdout",
     "output_type": "stream",
     "text": [
      "|Sure|!| Here| are| three| jokes| that| might| give| you| a| chuck|le|:\n",
      "\n",
      "|1|.| **|Why| don|’t| scientists| trust| atoms|?|**\n",
      "|  | Because| they| make| up| everything|!\n",
      "\n",
      "|2|.| **|Why| did| the| scare|crow| win| an| award|?|**\n",
      "|  | Because| he| was| outstanding| in| his| field|!\n",
      "\n",
      "|3|.| **|I| told| my| wife| she| was| drawing| her| eyebrows| too| high|.|**\n",
      "|  | She| looked| surprised|!\n",
      "\n",
      "|I| hope| one| of| these| brings| a| smile| to| your| face|!||"
     ]
    }
   ],
   "source": [
    "for token in model.stream(\"Tell me the 3 funniest jokes you know\"):\n",
    "    print(token.content, end=\"|\")"
   ]
  },
  {
   "cell_type": "code",
   "execution_count": 13,
   "metadata": {},
   "outputs": [
    {
     "data": {
      "text/plain": [
       "'System: Translate the following from English into French\\nHuman: I love programming in Python'"
      ]
     },
     "execution_count": 13,
     "metadata": {},
     "output_type": "execute_result"
    }
   ],
   "source": [
    "from langchain_core.prompts import ChatPromptTemplate\n",
    "\n",
    "system_template = \"Translate the following from {language_source} into {language_target}\"\n",
    "\n",
    "prompt_template = ChatPromptTemplate.from_messages(\n",
    "    [(\"system\", system_template), (\"human\", \"{input_sentence}\")]\n",
    ")\n",
    "\n",
    "prompt_template.format(language_source=\"English\", language_target=\"French\", input_sentence=\"I love programming in Python\")"
   ]
  },
  {
   "cell_type": "code",
   "execution_count": 14,
   "metadata": {},
   "outputs": [
    {
     "data": {
      "text/plain": [
       "AIMessage(content=\"J'adore programmer en Python.\", additional_kwargs={'refusal': None}, response_metadata={'token_usage': {'completion_tokens': 7, 'prompt_tokens': 23, 'total_tokens': 30, 'completion_tokens_details': {'accepted_prediction_tokens': 0, 'audio_tokens': 0, 'reasoning_tokens': 0, 'rejected_prediction_tokens': 0}, 'prompt_tokens_details': {'audio_tokens': 0, 'cached_tokens': 0}}, 'model_name': 'gpt-4o-mini-2024-07-18', 'system_fingerprint': 'fp_0392822090', 'id': 'chatcmpl-BNLleREclnRbIkMfVOf5WA40UVC3D', 'finish_reason': 'stop', 'logprobs': None}, id='run-f29bd84b-3dd0-425e-a32d-32febfdf4ef4-0', usage_metadata={'input_tokens': 23, 'output_tokens': 7, 'total_tokens': 30, 'input_token_details': {'audio': 0, 'cache_read': 0}, 'output_token_details': {'audio': 0, 'reasoning': 0}})"
      ]
     },
     "execution_count": 14,
     "metadata": {},
     "output_type": "execute_result"
    }
   ],
   "source": [
    "prompt = prompt_template.invoke({\"language_source\": \"English\", \"language_target\": \"French\", \"input_sentence\": \"I love programming in Python\"})\n",
    "response = model.invoke(prompt)\n",
    "response"
   ]
  },
  {
   "cell_type": "code",
   "execution_count": 15,
   "metadata": {},
   "outputs": [
    {
     "data": {
      "text/plain": [
       "\"J'adore programmer en Python.\""
      ]
     },
     "execution_count": 15,
     "metadata": {},
     "output_type": "execute_result"
    }
   ],
   "source": [
    "response.content"
   ]
  },
  {
   "cell_type": "code",
   "execution_count": 16,
   "metadata": {},
   "outputs": [],
   "source": [
    "chain = prompt_template | model\n",
    "\n",
    "response = chain.invoke({\"language_source\": \"English\", \"language_target\": \"Italian\", \"input_sentence\": \"Lucas is a gorgeous bald teacher.\"})"
   ]
  },
  {
   "cell_type": "code",
   "execution_count": 17,
   "metadata": {},
   "outputs": [
    {
     "data": {
      "text/plain": [
       "'Lucas è un bellissimo insegnante calvo.'"
      ]
     },
     "execution_count": 17,
     "metadata": {},
     "output_type": "execute_result"
    }
   ],
   "source": [
    "response.content"
   ]
  },
  {
   "cell_type": "markdown",
   "metadata": {},
   "source": [
    "# Structured Outputs"
   ]
  },
  {
   "cell_type": "code",
   "execution_count": 18,
   "metadata": {},
   "outputs": [
    {
     "data": {
      "text/plain": [
       "ParsedChatCompletion[ElementsOfLiveCourse](id='chatcmpl-BNLt735W3OJ6UgQBQGvEEmFqXzK35', choices=[ParsedChoice[ElementsOfLiveCourse](finish_reason='stop', index=0, logprobs=None, message=ParsedChatCompletionMessage[ElementsOfLiveCourse](content='{\"title\":\"Model Context Protocol (MCP) Introduction\",\"topic\":\"Connecting AI Systems with Data Sources\",\"example_lesson\":\"Understanding the Architecture of the Model Context Protocol: This lesson covers how to set up your first MCP server, the importance of a standard protocol in AI development, and walkthroughs of pre-built MCP servers for platforms like Google Drive and Slack.\"}', refusal=None, role='assistant', annotations=[], audio=None, function_call=None, tool_calls=None, parsed=ElementsOfLiveCourse(title='Model Context Protocol (MCP) Introduction', topic='Connecting AI Systems with Data Sources', example_lesson='Understanding the Architecture of the Model Context Protocol: This lesson covers how to set up your first MCP server, the importance of a standard protocol in AI development, and walkthroughs of pre-built MCP servers for platforms like Google Drive and Slack.')))], created=1744905381, model='gpt-4o-mini-2024-07-18', object='chat.completion', service_tier='default', system_fingerprint='fp_f7d56a8a2c', usage=CompletionUsage(completion_tokens=74, prompt_tokens=1125, total_tokens=1199, completion_tokens_details=CompletionTokensDetails(accepted_prediction_tokens=0, audio_tokens=0, reasoning_tokens=0, rejected_prediction_tokens=0), prompt_tokens_details=PromptTokensDetails(audio_tokens=0, cached_tokens=0)))"
      ]
     },
     "execution_count": 18,
     "metadata": {},
     "output_type": "execute_result"
    }
   ],
   "source": [
    "from pydantic import BaseModel, Field\n",
    "from openai import OpenAI\n",
    "\n",
    "class ElementsOfLiveCourse(BaseModel):\n",
    "    title: str = Field(description=\"The title of the live course\")\n",
    "    topic: str = Field(description=\"The core topic of the live course\")\n",
    "    example_lesson: str = Field(description=\"An example lesson from the live course\")\n",
    "\n",
    "with open(\"./mcp_course_example.txt\", \"r\") as f:\n",
    "    prompt_raw_course = f.read()\n",
    "\n",
    "client = OpenAI()\n",
    "\n",
    "response = client.beta.chat.completions.parse(\n",
    "    model=\"gpt-4o-mini\",\n",
    "    messages=[\n",
    "        {\"role\": \"system\", \"content\": \"You take in raw information for a course and\\\n",
    "            you output the structured objects with information about that course\"},\n",
    "        {\"role\": \"user\", \"content\": prompt_raw_course}\n",
    "    ],\n",
    "    response_format=ElementsOfLiveCourse\n",
    ")\n",
    "\n",
    "response"
   ]
  },
  {
   "cell_type": "code",
   "execution_count": 23,
   "metadata": {},
   "outputs": [
    {
     "data": {
      "text/plain": [
       "ElementsOfLiveCourse(title='Model Context Protocol (MCP) Introduction', topic='Connecting AI Systems with Data Sources', example_lesson='Understanding the Architecture of the Model Context Protocol: This lesson covers how to set up your first MCP server, the importance of a standard protocol in AI development, and walkthroughs of pre-built MCP servers for platforms like Google Drive and Slack.')"
      ]
     },
     "execution_count": 23,
     "metadata": {},
     "output_type": "execute_result"
    }
   ],
   "source": [
    "response.choices[0].message.parsed"
   ]
  },
  {
   "cell_type": "code",
   "execution_count": 24,
   "metadata": {},
   "outputs": [
    {
     "data": {
      "text/markdown": [
       "\n",
       "# Model Context Protocol (MCP) Introduction\n",
       "\n",
       "- *Topic*: Connecting AI Systems with Data Sources\n",
       "- *Example Lesson*: Understanding the Architecture of the Model Context Protocol: This lesson covers how to set up your first MCP server, the importance of a standard protocol in AI development, and walkthroughs of pre-built MCP servers for platforms like Google Drive and Slack.\n"
      ],
      "text/plain": [
       "<IPython.core.display.Markdown object>"
      ]
     },
     "execution_count": 24,
     "metadata": {},
     "output_type": "execute_result"
    }
   ],
   "source": [
    "from IPython.display import Markdown\n",
    "\n",
    "str_output = f\"\"\"\n",
    "# {response.choices[0].message.parsed.title}\n",
    "\n",
    "- *Topic*: {response.choices[0].message.parsed.topic}\n",
    "- *Example Lesson*: {response.choices[0].message.parsed.example_lesson}\n",
    "\"\"\"\n",
    "Markdown(str_output)"
   ]
  },
  {
   "cell_type": "code",
   "execution_count": 25,
   "metadata": {},
   "outputs": [
    {
     "data": {
      "text/plain": [
       "AIMessage(content='A screenplay is a blueprint for a film or television show, and it typically contains several key elements that help convey the story, character development, and visual storytelling. Here are the main elements of a screenplay:\\n\\n1. **Title Page**: This includes the title of the screenplay, the writer\\'s name, and contact information.\\n\\n2. **Act Structure**: Most screenplays follow a three-act structure:\\n   - **Act One**: Sets up the story, introduces the characters, and establishes the setting and conflict.\\n   - **Act Two**: The main part of the story where tension builds, complications arise, and characters face challenges.\\n   - **Act Three**: Resolution where conflicts are resolved, and the story concludes.\\n\\n3. **Scene Headings (Slug Lines)**: These indicate the location and time of day for each scene, usually formatted in all caps (e.g., \"EXT. PARK - DAY\").\\n\\n4. **Action Lines**: Descriptive text that conveys what is happening in the scene. It should be clear and concise, written in the present tense.\\n\\n5. **Dialogue**: The lines spoken by characters. Dialogue is centered on the page, with the character\\'s name above their lines.\\n\\n6. **Character Names**: When a character first appears in the action lines, their name is usually capitalized for emphasis. Dialogue follows the character\\'s name.\\n\\n7. **Parentheticals**: Brief directions for how a line should be delivered, placed beneath a character\\'s name (e.g., (whispering)).\\n\\n8. **Transitions**: Indicate changes between scenes, such as \"CUT TO:\", \"DISSOLVE TO:\", or \"FADE OUT:\" to guide the pacing of the film.\\n\\n9. **Flashbacks/Flashforwards**: If used, these indicate shifts in time and may require specific formatting.\\n\\n10. **Subplots**: Secondary storylines that add depth to the main plot and develop secondary characters.\\n\\n11. **Themes and Motifs**: While not explicitly stated, they underlie the narrative and character arcs, often manifesting through elements like dialogue and action.\\n\\n12. **Visual Elements**: Screenplays often indicate visual storytelling techniques that enhance the narrative (e.g., specific camera angles or movements, though these are typically minimized to keep focus on the story).\\n\\n13. **Notes and Format**: Screenplays adhere to strict formatting standards, including font (usually 12-point Courier), margins, and line spacing, which facilitate readability and production usability.\\n\\nEach element serves a function in the storytelling process, and together they create a cohesive narrative that can be interpreted and brought to life on screen.', additional_kwargs={'refusal': None}, response_metadata={'token_usage': {'completion_tokens': 538, 'prompt_tokens': 16, 'total_tokens': 554, 'completion_tokens_details': {'accepted_prediction_tokens': 0, 'audio_tokens': 0, 'reasoning_tokens': 0, 'rejected_prediction_tokens': 0}, 'prompt_tokens_details': {'audio_tokens': 0, 'cached_tokens': 0}}, 'model_name': 'gpt-4o-mini-2024-07-18', 'system_fingerprint': 'fp_f7d56a8a2c', 'id': 'chatcmpl-BNLufngXhGWjymtKk5lhOhSXu8uTv', 'finish_reason': 'stop', 'logprobs': None}, id='run-015dc958-b7dd-4236-8b19-0af662b36e31-0', usage_metadata={'input_tokens': 16, 'output_tokens': 538, 'total_tokens': 554, 'input_token_details': {'audio': 0, 'cache_read': 0}, 'output_token_details': {'audio': 0, 'reasoning': 0}})"
      ]
     },
     "execution_count": 25,
     "metadata": {},
     "output_type": "execute_result"
    }
   ],
   "source": [
    "llm = init_chat_model(\"gpt-4o-mini\", model_provider=\"openai\")\n",
    "\n",
    "llm.invoke(\"What are the elements of a Screenplay?\")"
   ]
  },
  {
   "cell_type": "markdown",
   "metadata": {},
   "source": [
    "## Pydantic Class"
   ]
  },
  {
   "cell_type": "code",
   "execution_count": 26,
   "metadata": {},
   "outputs": [],
   "source": [
    "from typing import Optional\n",
    "from pydantic import BaseModel, Field\n",
    "\n",
    "\n",
    "# Pydantic\n",
    "class ElementsOfScreenplay(BaseModel):\n",
    "    \"\"\"Elements of a Screenplay.\"\"\"\n",
    "    \n",
    "    title: str = Field(description=\"The title of the screenplay\")\n",
    "    genre: str = Field(description=\"The genre of the screenplay\")\n",
    "    protagonist: str = Field(description=\"The protagonist of the screenplay\")\n",
    "    antagonist: str = Field(description=\"The antagonist of the screenplay\")\n",
    "    setting: str = Field(description=\"The setting of the screenplay\")\n",
    "    plot: str = Field(description=\"The plot of the screenplay\")\n",
    "\n",
    "\n",
    "structured_llm = llm.with_structured_output(ElementsOfScreenplay)\n",
    "\n",
    "screenplay_structured = structured_llm.invoke(\"Structure a Screenplay about characters afraid of becoming outdated.\")"
   ]
  },
  {
   "cell_type": "code",
   "execution_count": 27,
   "metadata": {},
   "outputs": [
    {
     "data": {
      "text/markdown": [
       "\n",
       "# Timeless\n",
       "\n",
       "- *Genre*: Drama/Sci-Fi\n",
       "- *Protagonist*: Ella, a talented but obsolete tech designer\n",
       "- *Antagonist*\n",
       "- *Setting*: A near-future city where advanced technology dictates lifestyle and careers\n",
       "\n",
       "### Plot\n",
       "\n",
       "In a world where rapid technological changes leave many in the dust, Ella, a talented but outdated tech designer, struggles with the fear of becoming irrelevant. As she tries to adapt her skills to new advancements, she stumbles upon a group of like-minded individuals, each dealing with their own obsolescence. Together, they form a support network to confront their fears, share their experiences, and ultimately create a unique product that blends their old skills with the new technology. They must overcome their insecurities and societal pressure to prove that being 'outdated' doesn't mean being irrelevant, but rather it offers a unique perspective that can innovate the future.\n"
      ],
      "text/plain": [
       "<IPython.core.display.Markdown object>"
      ]
     },
     "execution_count": 27,
     "metadata": {},
     "output_type": "execute_result"
    }
   ],
   "source": [
    "from IPython.display import Markdown\n",
    "\n",
    "str_output = f\"\"\"\n",
    "# {screenplay_structured.title}\n",
    "\n",
    "- *Genre*: {screenplay_structured.genre}\n",
    "- *Protagonist*: {screenplay_structured.protagonist}\n",
    "- *Antagonist*\n",
    "- *Setting*: {screenplay_structured.setting}\n",
    "\n",
    "### Plot\n",
    "\n",
    "{screenplay_structured.plot}\n",
    "\"\"\"\n",
    "Markdown(str_output)"
   ]
  },
  {
   "cell_type": "markdown",
   "metadata": {},
   "source": [
    "# Model + Tools"
   ]
  },
  {
   "cell_type": "code",
   "execution_count": 29,
   "metadata": {},
   "outputs": [],
   "source": [
    "from langchain_community.tools.tavily_search import TavilySearchResults\n",
    "\n",
    "model = init_chat_model(\"gpt-4o-mini\", model_provider=\"openai\")\n",
    "search = TavilySearchResults(max_results=2)\n",
    "tools = [search]\n",
    "\n",
    "model_with_tools = model.bind_tools(tools)\n",
    "\n",
    "output_model_tools = model_with_tools.invoke(\"Who is in the NBA playoffs?\")"
   ]
  },
  {
   "cell_type": "code",
   "execution_count": 32,
   "metadata": {},
   "outputs": [
    {
     "data": {
      "text/plain": [
       "[{'name': 'tavily_search_results_json',\n",
       "  'args': {'query': 'NBA playoffs teams 2024'},\n",
       "  'id': 'call_fqabZfxGs5ImO2kzLHAX46Wt',\n",
       "  'type': 'tool_call'}]"
      ]
     },
     "execution_count": 32,
     "metadata": {},
     "output_type": "execute_result"
    }
   ],
   "source": [
    "output_model_tools.tool_calls"
   ]
  },
  {
   "cell_type": "markdown",
   "metadata": {},
   "source": [
    "The output we get here is something called a \"tool call\" which means, prepared arguments for a pre-defined function (in this case\n",
    "web search with the tavily API) to gather the required information."
   ]
  },
  {
   "cell_type": "markdown",
   "metadata": {},
   "source": [
    "Now let's look at a full agent."
   ]
  },
  {
   "cell_type": "code",
   "execution_count": 33,
   "metadata": {},
   "outputs": [
    {
     "data": {
      "image/png": "[encoded data removed]",
      "text/plain": [
       "<langgraph.graph.state.CompiledStateGraph object at 0x10fbb0d50>"
      ]
     },
     "execution_count": 33,
     "metadata": {},
     "output_type": "execute_result"
    }
   ],
   "source": [
    "# Import relevant functionality\n",
    "from langchain_community.tools.tavily_search import TavilySearchResults\n",
    "from langchain_core.messages import HumanMessage\n",
    "from langgraph.checkpoint.memory import MemorySaver\n",
    "from langgraph.prebuilt import create_react_agent\n",
    "\n",
    "# Create the agent\n",
    "memory = MemorySaver()\n",
    "model = init_chat_model(\"gpt-4o-mini\", model_provider=\"openai\")\n",
    "search = TavilySearchResults(max_results=2)\n",
    "tools = [search]\n",
    "agent_executor = create_react_agent(model, tools, checkpointer=memory)\n",
    "\n",
    "agent_executor"
   ]
  },
  {
   "cell_type": "markdown",
   "metadata": {},
   "source": [
    "Agent Executor is a graph!"
   ]
  },
  {
   "cell_type": "code",
   "execution_count": 34,
   "metadata": {},
   "outputs": [
    {
     "data": {
      "text/plain": [
       "{'messages': [HumanMessage(content='What is the capital of Brazil?', additional_kwargs={}, response_metadata={}, id='7132a54f-3b7e-4bce-97a2-8cf2310fdaf2'),\n",
       "  AIMessage(content='The capital of Brazil is Brasília.', additional_kwargs={'refusal': None}, response_metadata={'token_usage': {'completion_tokens': 9, 'prompt_tokens': 86, 'total_tokens': 95, 'completion_tokens_details': {'accepted_prediction_tokens': 0, 'audio_tokens': 0, 'reasoning_tokens': 0, 'rejected_prediction_tokens': 0}, 'prompt_tokens_details': {'audio_tokens': 0, 'cached_tokens': 0}}, 'model_name': 'gpt-4o-mini-2024-07-18', 'system_fingerprint': 'fp_dbaca60df0', 'id': 'chatcmpl-BNM1Bnuf2vnXAvOS8b5edC8mdfrBd', 'finish_reason': 'stop', 'logprobs': None}, id='run-bb1d02a8-fb18-45ff-a509-a6defc3dced6-0', usage_metadata={'input_tokens': 86, 'output_tokens': 9, 'total_tokens': 95, 'input_token_details': {'audio': 0, 'cache_read': 0}, 'output_token_details': {'audio': 0, 'reasoning': 0}})]}"
      ]
     },
     "execution_count": 34,
     "metadata": {},
     "output_type": "execute_result"
    }
   ],
   "source": [
    "# We pass config because this agent has memory so we need to pass a thread_id\n",
    "config = {\"configurable\": {\"thread_id\": \"abc123\"}}\n",
    "# Below we can't just invoke on \"input\" we use \"messages\" because the agent expects a list of messages (this info is hidden in the create_react_agent function)\n",
    "agent_executor.invoke({\"messages\": [HumanMessage(\"What is the capital of Brazil?\")]}, config=config)"
   ]
  },
  {
   "cell_type": "code",
   "execution_count": 35,
   "metadata": {},
   "outputs": [
    {
     "name": "stdout",
     "output_type": "stream",
     "text": [
      "================================\u001b[1m Human Message \u001b[0m=================================\n",
      "\n",
      "What are the best NBA teams right now?\n",
      "==================================\u001b[1m Ai Message \u001b[0m==================================\n",
      "Tool Calls:\n",
      "  tavily_search_results_json (call_r17tMMRnSwPsUfsQvy0EycvZ)\n",
      " Call ID: call_r17tMMRnSwPsUfsQvy0EycvZ\n",
      "  Args:\n",
      "    query: best NBA teams right now 2024\n",
      "=================================\u001b[1m Tool Message \u001b[0m=================================\n",
      "Name: tavily_search_results_json\n",
      "\n",
      "[{\"title\": \"Best NBA Team 2023 2024 - StatMuse\", \"url\": \"https://www.statmuse.com/nba/ask/best-nba-team-2023-2024\", \"content\": \"The Boston Celtics had the best record by a team in 2023-24, with a record of 64-18. ; 4. Timberwolves ; 5. Clippers ; 6. Knicks ; 7. Mavericks.\", \"score\": 0.8412138}, {\"title\": \"NBA 2024-2025 Standings & Table - Basketball Rankings | Eurosport\", \"url\": \"https://www.eurosport.com/basketball/nba/standings.shtml\", \"content\": \"1. Oklahoma City ThunderOKC ; 2. Memphis GrizzliesMEM ; 3. Denver NuggetsDEN ; 4. Houston RocketsHOU ; 5. Los Angeles LakersLAL.\", \"score\": 0.7730283}]\n",
      "==================================\u001b[1m Ai Message \u001b[0m==================================\n",
      "\n",
      "As of now, the top NBA teams for the 2023-2024 season include:\n",
      "\n",
      "1. **Boston Celtics** - They had the best record with 64 wins and 18 losses.\n",
      "2. **Oklahoma City Thunder**\n",
      "3. **Memphis Grizzlies**\n",
      "4. **Denver Nuggets**\n",
      "5. **Houston Rockets**\n",
      "6. **Los Angeles Lakers**\n",
      "\n",
      "For more detailed standings, you can refer to sources like [StatMuse](https://www.statmuse.com/nba/ask/best-nba-team-2023-2024) and [Eurosport](https://www.eurosport.com/basketball/nba/standings.shtml).\n"
     ]
    }
   ],
   "source": [
    "for step in agent_executor.stream(\n",
    "    {\"messages\": [HumanMessage(content=\"What are the best NBA teams right now?\")]},\n",
    "    stream_mode=\"values\",\n",
    "    config=config\n",
    "):\n",
    "    step[\"messages\"][-1].pretty_print()"
   ]
  },
  {
   "cell_type": "code",
   "execution_count": 36,
   "metadata": {},
   "outputs": [
    {
     "data": {
      "text/plain": [
       "AIMessage(content=\"I don't have real-time data or the ability to predict future events, including the outcome of the NBA championship. The most likely team to win the championship can vary based on many factors, including team performance, player injuries, and other dynamics that change throughout the season. For the most accurate and up-to-date information, I recommend checking the latest sports news and analysis from reliable sources.\", additional_kwargs={}, response_metadata={'model': 'mistral-small3.1', 'created_at': '2025-04-17T16:06:51.891986Z', 'done': True, 'done_reason': 'stop', 'total_duration': 9044555041, 'load_duration': 3375090208, 'prompt_eval_count': 373, 'prompt_eval_duration': 2184566959, 'eval_count': 78, 'eval_duration': 3468904208, 'model_name': 'mistral-small3.1'}, id='run-f4db4aff-cfb7-4fd9-a18b-c75dcf90dbc5-0', usage_metadata={'input_tokens': 373, 'output_tokens': 78, 'total_tokens': 451})"
      ]
     },
     "execution_count": 36,
     "metadata": {},
     "output_type": "execute_result"
    }
   ],
   "source": [
    "# !pip install langchain-ollama\n",
    "\n",
    "from langchain.chat_models import init_chat_model\n",
    "\n",
    "local_llm = init_chat_model(\"mistral-small3.1\", model_provider=\"ollama\")\n",
    "\n",
    "local_llm.invoke(\"What is the team from NBA most likely to win the championship this year?\")"
   ]
  },
  {
   "cell_type": "code",
   "execution_count": 37,
   "metadata": {},
   "outputs": [],
   "source": [
    "search = TavilySearchResults(max_results=2)\n",
    "tools = [search]\n",
    "agent_executor = create_react_agent(local_llm, tools)"
   ]
  },
  {
   "cell_type": "code",
   "execution_count": 38,
   "metadata": {},
   "outputs": [
    {
     "data": {
      "text/plain": [
       "{'messages': [HumanMessage(content='What is the team from NBA most likely to win the championship this year?', additional_kwargs={}, response_metadata={}, id='3c53303d-beeb-4055-9f9f-00bf0c9c49ea'),\n",
       "  AIMessage(content='', additional_kwargs={}, response_metadata={'model': 'mistral-small3.1', 'created_at': '2025-04-17T16:07:32.043468Z', 'done': True, 'done_reason': 'stop', 'total_duration': 2187821583, 'load_duration': 40166083, 'prompt_eval_count': 458, 'prompt_eval_duration': 883769708, 'eval_count': 29, 'eval_duration': 1262225875, 'model_name': 'mistral-small3.1'}, id='run-4f890ba9-e316-424c-a1ee-4f8c725a8828-0', tool_calls=[{'name': 'tavily_search_results_json', 'args': {'query': 'NBA championship winner predictions 2024'}, 'id': 'b3557abd-728f-43e1-b847-23deeae328da', 'type': 'tool_call'}], usage_metadata={'input_tokens': 458, 'output_tokens': 29, 'total_tokens': 487}),\n",
       "  ToolMessage(content='[{\"title\": \"2024-25 NBA championship odds: Thunder, Celtics favored as ...\", \"url\": \"https://www.foxsports.com/stories/nba/2024-25-nba-finals-odds-team-futures\", \"content\": \"2024-25 NBA Finals winner. Oklahoma City Thunder: +165 (bet $10 to win $26.50 total) Boston Celtics: +190 (bet $10 to win $29 total)\", \"score\": 0.8443195}, {\"title\": \"2024-25 NBA Championship Odds and Expert Predictions\", \"url\": \"https://www.docsports.com/current/nba-championship-odds.html\", \"content\": \"The Oklahoma City Thunder and Boston Celtics have emerged as the clear title favorites, but there are a handful of teams that will feel\", \"score\": 0.8190992}]', name='tavily_search_results_json', id='87c6dbbe-bc37-42fc-bf15-34b8c6891987', tool_call_id='b3557abd-728f-43e1-b847-23deeae328da', artifact={'query': 'NBA championship winner predictions 2024', 'follow_up_questions': None, 'answer': None, 'images': [], 'results': [{'url': 'https://www.foxsports.com/stories/nba/2024-25-nba-finals-odds-team-futures', 'title': '2024-25 NBA championship odds: Thunder, Celtics favored as ...', 'content': '2024-25 NBA Finals winner. Oklahoma City Thunder: +165 (bet $10 to win $26.50 total) Boston Celtics: +190 (bet $10 to win $29 total)', 'score': 0.8443195, 'raw_content': None}, {'url': 'https://www.docsports.com/current/nba-championship-odds.html', 'title': '2024-25 NBA Championship Odds and Expert Predictions', 'content': 'The Oklahoma City Thunder and Boston Celtics have emerged as the clear title favorites, but there are a handful of teams that will feel', 'score': 0.8190992, 'raw_content': None}], 'response_time': 1.27}),\n",
       "  AIMessage(content='Based on the latest predictions and odds, the Oklahoma City Thunder and the Boston Celtics are the most likely teams to win the 2024-2025 NBA Championship. The Oklahoma City Thunder have odds of +165, while the Boston Celtics are at +190. These odds reflect their strong performances and the expectations of experts in the field.', additional_kwargs={}, response_metadata={'model': 'mistral-small3.1', 'created_at': '2025-04-17T16:07:39.211852Z', 'done': True, 'done_reason': 'stop', 'total_duration': 5108925209, 'load_duration': 39009834, 'prompt_eval_count': 624, 'prompt_eval_duration': 1605574167, 'eval_count': 76, 'eval_duration': 3459580375, 'model_name': 'mistral-small3.1'}, id='run-6160fd79-64f3-409f-86d4-6251b21ec565-0', usage_metadata={'input_tokens': 624, 'output_tokens': 76, 'total_tokens': 700})]}"
      ]
     },
     "execution_count": 38,
     "metadata": {},
     "output_type": "execute_result"
    }
   ],
   "source": [
    "agent_executor.invoke({\"messages\": [HumanMessage(\"What is the team from NBA most likely to win the championship this year?\")]})"
   ]
  }
 ],
 "metadata": {
  "kernelspec": {
   "display_name": "oreilly-agents",
   "language": "python",
   "name": "python3"
  },
  "language_info": {
   "codemirror_mode": {
    "name": "ipython",
    "version": 3
   },
   "file_extension": ".py",
   "mimetype": "text/x-python",
   "name": "python",
   "nbconvert_exporter": "python",
   "pygments_lexer": "ipython3",
   "version": "3.11.11"
  }
 },
 "nbformat": 4,
 "nbformat_minor": 4
}
