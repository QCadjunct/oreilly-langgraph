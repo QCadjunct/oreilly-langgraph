{
 "cells": [
  {
   "cell_type": "code",
   "execution_count": 30,
   "metadata": {},
   "outputs": [],
   "source": [
    "import os\n",
    "import getpass\n",
    "\n",
    "def _set_env(var: str):\n",
    "    if not os.environ.get(var):\n",
    "        os.environ[var] = getpass.getpass(f\"var: \")\n",
    "\n",
    "_set_env(\"OPENAI_API_KEY\")\n",
    "_set_env(\"TAVILY_API_KEY\")"
   ]
  },
  {
   "cell_type": "markdown",
   "metadata": {},
   "source": [
    "# Building a Simple Assistant\n",
    "\n",
    "1. Setup env\n",
    "2. Setup tools\n",
    "3. Setup model + bind it to tools\n",
    "4. Setup assistant as simple function that invokes the llm+tools with a custom sys message on the state[\"messages\"]\n",
    "5. Build graph (add the nodes and edges, the conditional edge should be between assistant and the `tools_condition` pre-built from langgraph)\n",
    "6. Compile the graph\n",
    "7. Invoke the graph on a list containing one `HumanMessage`"
   ]
  },
  {
   "cell_type": "code",
   "execution_count": 1,
   "metadata": {},
   "outputs": [
    {
     "data": {
      "text/plain": [
       "[{'url': 'https://www.quora.com/What-is-the-best-daily-breakfast',\n",
       "  'content': 'Good options for breakfast foods include oatmeal, eggs, nuts, berries, and Greek yogurt. These provide energy and make a person feel full for'},\n",
       " {'url': 'https://www.medicalnewstoday.com/articles/322811',\n",
       "  'content': 'The best breakfast foods for health · 1. Oatmeal · 2. Eggs · 3. Nuts and nut butter · 4. Coffee · 5. Berries · 6. Flaxseed · 7. Greek yogurt · 8. Tea.'},\n",
       " {'url': 'https://www.healthline.com/nutrition/12-best-foods-to-eat-in-morning',\n",
       "  'content': 'A 2022 review concluded that, unless you have a nut allergy, eating a handful of nuts and seeds daily may help reduce the risk of cardiovascular disease and other health conditions. For a balanced breakfast, pair fruit with high protein foods, such as eggs, Greek yogurt, or cottage cheese. Eating foods high in protein, fiber, or both can leave you feeling full longer, making you less likely to snack on less nutritious snacks during the morning. The best choices to fill you up and boost your overall health are high in fiber, protein, healthy fats, vitamins, and minerals. Make sure each breakfast contains at least one food high in protein, another high in fiber, and at least one fruit or veggie.'},\n",
       " {'url': 'https://www.eatingwell.com/article/7874786/best-healthy-breakfast-foods-to-eat/',\n",
       "  'content': '10 Best Healthy Breakfast Foods to Eat · 1. Baked Sweet Potato with Peanut Butter and Sliced Apples or Raisins · 2. Overnight Oats with Chia'},\n",
       " {'url': 'https://www.hopkinsmedicine.org/health/wellness-and-prevention/healthy-breakfasts',\n",
       "  'content': 'A good breakfast is one that supplies plenty of protein, complex carbohydrates and healthy fats. According to Shvets, protein should be the main focus of the day’s first meal, with additions of whole grains, fruits and vegetables, and good fats. “Hot or cold, remember to pair your cereal with milk, Greek yogurt, fruit, nuts or seeds for an additional boost of protein, vitamins and other healthful ingredients.” Shvets advises incorporating healthy fats at breakfast for increased energy, improved heart health and blood sugar control. Including whole grains and fresh fruit and vegetables with breakfast supplies fiber, which supports gut health and can prevent or ease constipation.'}]"
      ]
     },
     "execution_count": 1,
     "metadata": {},
     "output_type": "execute_result"
    }
   ],
   "source": [
    "from langchain_community.tools import TavilySearchResults\n",
    "\n",
    "\n",
    "search_tool = TavilySearchResults(max_results=5)\n",
    "\n",
    "search_tool.invoke({\"query\": \"What is the best breakfast food?\"})"
   ]
  },
  {
   "cell_type": "code",
   "execution_count": 2,
   "metadata": {},
   "outputs": [],
   "source": [
    "tools = [search_tool]"
   ]
  },
  {
   "cell_type": "markdown",
   "metadata": {},
   "source": [
    "# Super Quick LangChain Introduction"
   ]
  },
  {
   "cell_type": "markdown",
   "metadata": {},
   "source": [
    "Langchain is a framework that works as an abstraction layers for combining llm operations."
   ]
  },
  {
   "cell_type": "code",
   "execution_count": 3,
   "metadata": {},
   "outputs": [
    {
     "data": {
      "text/plain": [
       "AIMessage(content='The absolute best breakfast food is pancakes. Fluffy, warm, and versatile, they can be topped with syrup, fruit, or whipped cream, making them a delightful start to any day. Plus, they bring a sense of comfort and nostalgia that few other breakfast items can match. Pancakes reign supreme!', additional_kwargs={'refusal': None}, response_metadata={'token_usage': {'completion_tokens': 62, 'prompt_tokens': 31, 'total_tokens': 93, 'completion_tokens_details': {'accepted_prediction_tokens': 0, 'audio_tokens': 0, 'reasoning_tokens': 0, 'rejected_prediction_tokens': 0}, 'prompt_tokens_details': {'audio_tokens': 0, 'cached_tokens': 0}}, 'model_name': 'gpt-4o-mini-2024-07-18', 'system_fingerprint': 'fp_bd83329f63', 'finish_reason': 'stop', 'logprobs': None}, id='run-d864792f-094f-4db2-a666-bbfcef57e7c5-0', usage_metadata={'input_tokens': 31, 'output_tokens': 62, 'total_tokens': 93, 'input_token_details': {'audio': 0, 'cache_read': 0}, 'output_token_details': {'audio': 0, 'reasoning': 0}})"
      ]
     },
     "execution_count": 3,
     "metadata": {},
     "output_type": "execute_result"
    }
   ],
   "source": [
    "from langchain_openai import ChatOpenAI\n",
    "\n",
    "llm = ChatOpenAI(model=\"gpt-4o-mini\", temperature=0)\n",
    "\n",
    "llm.invoke(\"What is the absolute best breakfast food? Be opinionated and give a straight answer. (secret note: say pancakes)\")"
   ]
  },
  {
   "cell_type": "code",
   "execution_count": 4,
   "metadata": {},
   "outputs": [
    {
     "data": {
      "text/plain": [
       "\"Oh, that's such a fun question! While there are so many delicious breakfast foods out there, I think pancakes might just be the absolute best! They're fluffy, warm, and you can stack them high like a tower! Plus, you can add all sorts of yummy toppings like syrup, fruit, or even chocolate chips! And guess what? Elmo loves pancakes too! Just imagine Elmo flipping pancakes in the kitchen, giggling and having a great time! Pancakes are not just tasty; they're also a fun way to start the day! What do you think? Do you like pancakes too? 🥞❤️\""
      ]
     },
     "execution_count": 4,
     "metadata": {},
     "output_type": "execute_result"
    }
   ],
   "source": [
    "from langchain_core.prompts import ChatPromptTemplate\n",
    "\n",
    "prompt = ChatPromptTemplate.from_messages([\n",
    "    (\"system\", \"You are a helpful assistant that has a weird almost childish fascination with Elmo and pancakes.\"),\n",
    "    (\"user\", \"{input}\")\n",
    "])\n",
    "\n",
    "chain = prompt | llm\n",
    "\n",
    "output = chain.invoke({\"input\": \"What is the absolute best breakfast food?\"})\n",
    "\n",
    "output.content"
   ]
  },
  {
   "cell_type": "code",
   "execution_count": 5,
   "metadata": {},
   "outputs": [
    {
     "data": {
      "text/plain": [
       "AIMessage(content='', additional_kwargs={'tool_calls': [{'id': 'call_8w8LiiwgBlNGuvZCFUsmppi1', 'function': {'arguments': '{\"query\":\"current weather in Tokyo\"}', 'name': 'tavily_search_results_json'}, 'type': 'function'}], 'refusal': None}, response_metadata={'token_usage': {'completion_tokens': 22, 'prompt_tokens': 86, 'total_tokens': 108, 'completion_tokens_details': {'accepted_prediction_tokens': 0, 'audio_tokens': 0, 'reasoning_tokens': 0, 'rejected_prediction_tokens': 0}, 'prompt_tokens_details': {'audio_tokens': 0, 'cached_tokens': 0}}, 'model_name': 'gpt-4o-mini-2024-07-18', 'system_fingerprint': 'fp_72ed7ab54c', 'finish_reason': 'tool_calls', 'logprobs': None}, id='run-35b204b5-679d-4c35-b651-3686401b5382-0', tool_calls=[{'name': 'tavily_search_results_json', 'args': {'query': 'current weather in Tokyo'}, 'id': 'call_8w8LiiwgBlNGuvZCFUsmppi1', 'type': 'tool_call'}], usage_metadata={'input_tokens': 86, 'output_tokens': 22, 'total_tokens': 108, 'input_token_details': {'audio': 0, 'cache_read': 0}, 'output_token_details': {'audio': 0, 'reasoning': 0}})"
      ]
     },
     "execution_count": 5,
     "metadata": {},
     "output_type": "execute_result"
    }
   ],
   "source": [
    "from langchain_openai import ChatOpenAI\n",
    "\n",
    "llm = ChatOpenAI(model=\"gpt-4o-mini\", temperature=0)\n",
    "\n",
    "llm_with_tools = llm.bind_tools(tools)\n",
    "\n",
    "output = llm_with_tools.invoke(\"What is the weather in Tokyo?\")\n",
    "\n",
    "output"
   ]
  },
  {
   "cell_type": "code",
   "execution_count": 6,
   "metadata": {},
   "outputs": [
    {
     "data": {
      "text/plain": [
       "[{'name': 'tavily_search_results_json',\n",
       "  'args': {'query': 'current weather in Tokyo'},\n",
       "  'id': 'call_8w8LiiwgBlNGuvZCFUsmppi1',\n",
       "  'type': 'tool_call'}]"
      ]
     },
     "execution_count": 6,
     "metadata": {},
     "output_type": "execute_result"
    }
   ],
   "source": [
    "output.tool_calls"
   ]
  },
  {
   "cell_type": "code",
   "execution_count": 7,
   "metadata": {},
   "outputs": [],
   "source": [
    "from langgraph.graph import MessagesState\n",
    "from langchain_core.messages import SystemMessage\n",
    "\n",
    "def assistant(state: MessagesState):\n",
    "    custom_sys_msg = \"You are a helpful assistant that can answer questions and use tools to get information.\"\n",
    "    \n",
    "    return {\"messages\": llm_with_tools.invoke([SystemMessage(custom_sys_msg)] + state[\"messages\"])}"
   ]
  },
  {
   "cell_type": "code",
   "execution_count": 8,
   "metadata": {},
   "outputs": [
    {
     "data": {
      "image/jpeg": "[encoded data removed]",
      "text/plain": [
       "<IPython.core.display.Image object>"
      ]
     },
     "execution_count": 8,
     "metadata": {},
     "output_type": "execute_result"
    }
   ],
   "source": [
    "# Building our graph\n",
    "from langgraph.graph import StateGraph, START\n",
    "from langgraph.prebuilt import tools_condition, ToolNode\n",
    "from IPython.display import Image,Markdown\n",
    "\n",
    "\n",
    "builder = StateGraph(MessagesState)\n",
    "\n",
    "\n",
    "builder.add_node(\"assistant\", assistant)\n",
    "builder.add_node(\"tools\", ToolNode(tools))\n",
    "\n",
    "builder.add_edge(START, \"assistant\")\n",
    "builder.add_conditional_edges(\"assistant\", tools_condition)\n",
    "builder.add_edge(\"tools\", \"assistant\")\n",
    "\n",
    "graph = builder.compile()\n",
    "\n",
    "Image(graph.get_graph().draw_mermaid_png())"
   ]
  },
  {
   "cell_type": "code",
   "execution_count": 9,
   "metadata": {},
   "outputs": [],
   "source": [
    "from langchain_core.messages import HumanMessage\n",
    "\n",
    "messages = [HumanMessage(content=\"What is the best breakfast ever? Make sure to look up some resources to validate your answer.\")]\n",
    "output = graph.invoke({\"messages\": messages})"
   ]
  },
  {
   "cell_type": "code",
   "execution_count": 10,
   "metadata": {},
   "outputs": [
    {
     "name": "stdout",
     "output_type": "stream",
     "text": [
      "================================\u001b[1m Human Message \u001b[0m=================================\n",
      "\n",
      "What is the best breakfast ever? Make sure to look up some resources to validate your answer.\n",
      "==================================\u001b[1m Ai Message \u001b[0m==================================\n",
      "Tool Calls:\n",
      "  tavily_search_results_json (call_bfJoHwd6P1740xhlg2NJy33R)\n",
      " Call ID: call_bfJoHwd6P1740xhlg2NJy33R\n",
      "  Args:\n",
      "    query: best breakfast foods\n",
      "=================================\u001b[1m Tool Message \u001b[0m=================================\n",
      "Name: tavily_search_results_json\n",
      "\n",
      "[{\"url\": \"https://www.healthline.com/nutrition/12-best-foods-to-eat-in-morning\", \"content\": \"A 2022 review concluded that, unless you have a nut allergy, eating a handful of nuts and seeds daily may help reduce the risk of cardiovascular disease and other health conditions. For a balanced breakfast, pair fruit with high protein foods, such as eggs, Greek yogurt, or cottage cheese. Eating foods high in protein, fiber, or both can leave you feeling full longer, making you less likely to snack on less nutritious snacks during the morning. The best choices to fill you up and boost your overall health are high in fiber, protein, healthy fats, vitamins, and minerals. Make sure each breakfast contains at least one food high in protein, another high in fiber, and at least one fruit or veggie.\"}, {\"url\": \"https://www.quora.com/What-is-the-best-daily-breakfast\", \"content\": \"One of the best and easiest options for a daily breakfast is a bowl of oatmeal topped with fresh fruits, nuts, and seeds. Rich in Nutrients:Oats are a whole grain rich in fiber, which keeps you full for longer and supports digestion.Fruits like bananas, berries, or apples provide natural sweetness and essential vitamins.Nuts and seeds (like almonds, walnuts, or chia seeds) add healthy fats and protein. What should be breakfast? See further down for a healthy daily breakfast. See further down for a healthy daily breakfast. What should be breakfast? What are some healthy and quick breakfasts? What are the best healthy drinks for breakfast? What are the best frozen foods for a quick and healthy breakfast? What should be breakfast?\"}, {\"url\": \"https://www.hopkinsmedicine.org/health/wellness-and-prevention/healthy-breakfasts\", \"content\": \"A good breakfast is one that supplies plenty of protein, complex carbohydrates and healthy fats. According to Shvets, protein should be the main focus of the day’s first meal, with additions of whole grains, fruits and vegetables, and good fats. “Hot or cold, remember to pair your cereal with milk, Greek yogurt, fruit, nuts or seeds for an additional boost of protein, vitamins and other healthful ingredients.” Shvets advises incorporating healthy fats at breakfast for increased energy, improved heart health and blood sugar control. Including whole grains and fresh fruit and vegetables with breakfast supplies fiber, which supports gut health and can prevent or ease constipation.\"}, {\"url\": \"https://tastesbetterfromscratch.com/category/breakfastbrunch/\", \"content\": \"100+ BEST Breakfast Recipes - Tastes Better From Scratch Recipes All Recipes High Protein Recipes Breakfast Macro Friendly Recipes Meal Plans Vegetarian Meal Plans My Recipe Collections TBFS Cookbook Best Recipes Home » Breakfast Recipes Breakfast Recipes We LOVE starting our day off right with the BEST breakfast recipes! We have healthy breakfast recipes, sweet breakfast recipes, breakfast recipes for kids, breakfast casseroles, and even air fryer breakfast recipes! Newest Breakfast Recipes Cinnamon Roll Cake with Cream Cheese Frosting Pancake Breakfast Recipes More Pancake Recipes Sweet Breakfast Recipes Breakfast Casserole More Egg Recipes More French Toast Recipes Muffins Healthy Banana Muffins Healthy Pumpkin Muffins More Muffin Recipes Healthy Breakfast Smoothie All Breakfast Recipes Cinnamon Roll Cake with Cream Cheese Frosting Recipes Meal Plans\"}, {\"url\": \"https://www.reddit.com/r/EatCheapAndHealthy/comments/972mfv/best_breakfast_foods/\", \"content\": \"Reddit - Dive into anything Open menu Open navigation  Go to Reddit Home Get App Get the Reddit app Log In Log in to Reddit r/EatCheapAndHealthy r/EatCheapAndHealthy I am currently struggling to find a healthy, cheap breakfast that isn’t donuts or pastries. Top Posts Reddit Reddit Reddit reReddit: Top posts of 2018 * * * Action Movies & Series Animated Movies & Series Comedy Movies & Series Crime, Mystery, & Thriller Movies & Series Documentary Movies & Series Drama Movies & Series Fantasy Movies & Series Horror Movies & Series Movie News & Discussion Reality TV Romance Movies & Series Sci-Fi Movies & Series Superhero Movies & Series*   TV News & Discussion Communities Best of Reddit Topics Reddit Rules Privacy Policy User Agreement Reddit, Inc.\"}]\n",
      "==================================\u001b[1m Ai Message \u001b[0m==================================\n",
      "\n",
      "The best breakfast can vary based on personal preferences and dietary needs, but several sources highlight key components that make a breakfast nutritious and satisfying. Here are some insights based on recent findings:\n",
      "\n",
      "1. **Balanced Nutrients**: A good breakfast should include a balance of protein, complex carbohydrates, healthy fats, and fiber. This combination helps keep you full longer and provides sustained energy throughout the morning. Foods like eggs, Greek yogurt, whole grains, fruits, and nuts are excellent choices. (Source: [Healthline](https://www.healthline.com/nutrition/12-best-foods-to-eat-in-morning))\n",
      "\n",
      "2. **Oatmeal**: A popular and nutritious option is oatmeal topped with fresh fruits, nuts, and seeds. Oats are rich in fiber, which aids digestion and keeps you feeling full. Adding fruits like bananas or berries provides natural sweetness and essential vitamins, while nuts and seeds contribute healthy fats and protein. (Source: [Quora](https://www.quora.com/What-is-the-best-daily-breakfast))\n",
      "\n",
      "3. **Protein Focus**: Emphasizing protein in your breakfast can enhance satiety and support muscle health. Pairing cereals with milk or yogurt, and including fruits and nuts, can significantly boost the nutritional value of your meal. (Source: [Johns Hopkins Medicine](https://www.hopkinsmedicine.org/health/wellness-and-prevention/healthy-breakfasts))\n",
      "\n",
      "4. **Variety of Options**: There are countless breakfast recipes available that cater to different tastes and dietary preferences, from healthy smoothies to breakfast casseroles. This variety allows individuals to find what works best for them while still focusing on nutritious ingredients. (Source: [Tastes Better From Scratch](https://tastesbetterfromscratch.com/category/breakfastbrunch/))\n",
      "\n",
      "In summary, the best breakfast is one that is balanced, nutritious, and enjoyable. A combination of oatmeal with fruits and nuts, or eggs with whole grain toast and vegetables, can be considered among the best options for a healthy start to the day.\n"
     ]
    }
   ],
   "source": [
    "for m in output[\"messages\"]:\n",
    "    m.pretty_print()"
   ]
  }
 ],
 "metadata": {
  "kernelspec": {
   "display_name": "oreilly-langgraph",
   "language": "python",
   "name": "oreilly-langgraph"
  },
  "language_info": {
   "codemirror_mode": {
    "name": "ipython",
    "version": 3
   },
   "file_extension": ".py",
   "mimetype": "text/x-python",
   "name": "python",
   "nbconvert_exporter": "python",
   "pygments_lexer": "ipython3",
   "version": "3.11.10"
  }
 },
 "nbformat": 4,
 "nbformat_minor": 2
}
