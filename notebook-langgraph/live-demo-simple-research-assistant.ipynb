{
 "cells": [
  {
   "cell_type": "markdown",
   "metadata": {},
   "source": [
    "# Implmementing a Simple Research Assistant Agent\n",
    "\n",
    "1. Setup env\n",
    "2. Setup tools/model/bind model to tools\n",
    "3. Setup assistant as a simple function that invokes the model + tools\n",
    "4. Initialize the state\n",
    "5. Setup graph with nodes and edges\n",
    "6. Compile + invoke"
   ]
  },
  {
   "cell_type": "code",
   "execution_count": 1,
   "metadata": {},
   "outputs": [],
   "source": [
    "import os\n",
    "import getpass\n",
    "\n",
    "def _set_env(var: str):\n",
    "    if not os.environ.get(var):\n",
    "        os.environ[var] = getpass.getpass(f\"var: \")\n",
    "\n",
    "_set_env(\"OPENAI_API_KEY\")\n",
    "_set_env(\"TAVILY_API_KEY\")"
   ]
  },
  {
   "cell_type": "code",
   "execution_count": 3,
   "metadata": {},
   "outputs": [
    {
     "data": {
      "text/plain": [
       "[{'url': 'https://www.datacamp.com/tutorial/langgraph-tutorial',\n",
       "  'content': 'LangGraph is a library within the LangChain ecosystem designed to tackle these challenges head-on. LangGraph provides a framework for defining, coordinating, and executing multiple LLM agents (or chains) in a structured manner.'},\n",
       " {'url': 'https://towardsdatascience.com/from-basics-to-advanced-exploring-langgraph-e8c1cf4db787',\n",
       "  'content': \"LangGraph is a low-level framework that offers extensive customisation options, allowing you to build precisely what you need. Since LangGraph is built on top of LangChain, it's seamlessly integrated into its ecosystem, making it easy to leverage existing tools and components. However, there are areas where LangGrpah could be improved:\"},\n",
       " {'url': 'https://langchain-ai.github.io/langgraph/',\n",
       "  'content': 'Overview¶. LangGraph is a library for building stateful, multi-actor applications with LLMs, used to create agent and multi-agent workflows. Compared to other LLM frameworks, it offers these core benefits: cycles, controllability, and persistence. LangGraph allows you to define flows that involve cycles, essential for most agentic architectures, differentiating it from DAG-based solutions.'},\n",
       " {'url': 'https://medium.com/@cplog/introduction-to-langgraph-a-beginners-guide-14f9be027141',\n",
       "  'content': 'LangGraph is a versatile tool for building complex, stateful applications with LLMs. By understanding its core concepts and working through simple examples, beginners can start to leverage its'},\n",
       " {'url': 'https://medium.com/@gopiariv/langgraph-a-beginners-guide-to-building-ai-workflows-e500965f2ef9',\n",
       "  'content': \"LangGraph is a part of the LangChain ecosystem, but it's installed separately from the main LangChain package. Here's a guide on how to install LangGraph: 1.\"}]"
      ]
     },
     "execution_count": 3,
     "metadata": {},
     "output_type": "execute_result"
    }
   ],
   "source": [
    "# setup the tools\n",
    "from langchain_community.tools import TavilySearchResults\n",
    "\n",
    "search_tool = TavilySearchResults(max_results=5)\n",
    "\n",
    "search_tool.invoke({\"query\": \"What is langgraph?\"})"
   ]
  },
  {
   "cell_type": "code",
   "execution_count": 6,
   "metadata": {},
   "outputs": [
    {
     "data": {
      "text/plain": [
       "AIMessage(content='', additional_kwargs={'tool_calls': [{'id': 'call_lgxsNqJnXmoFzCXvV2q641CJ', 'function': {'arguments': '{\"query\":\"langgraph\"}', 'name': 'tavily_search_results_json'}, 'type': 'function'}], 'refusal': None}, response_metadata={'token_usage': {'completion_tokens': 19, 'prompt_tokens': 84, 'total_tokens': 103, 'completion_tokens_details': {'accepted_prediction_tokens': 0, 'audio_tokens': 0, 'reasoning_tokens': 0, 'rejected_prediction_tokens': 0}, 'prompt_tokens_details': {'audio_tokens': 0, 'cached_tokens': 0}}, 'model_name': 'gpt-4o-mini-2024-07-18', 'system_fingerprint': 'fp_0ba0d124f1', 'finish_reason': 'tool_calls', 'logprobs': None}, id='run-9a8b0a8c-565b-4b0a-adb9-8eafa4a94246-0', tool_calls=[{'name': 'tavily_search_results_json', 'args': {'query': 'langgraph'}, 'id': 'call_lgxsNqJnXmoFzCXvV2q641CJ', 'type': 'tool_call'}], usage_metadata={'input_tokens': 84, 'output_tokens': 19, 'total_tokens': 103, 'input_token_details': {'audio': 0, 'cache_read': 0}, 'output_token_details': {'audio': 0, 'reasoning': 0}})"
      ]
     },
     "execution_count": 6,
     "metadata": {},
     "output_type": "execute_result"
    }
   ],
   "source": [
    "# setup model + bind to tools\n",
    "from langchain_openai import ChatOpenAI\n",
    "\n",
    "llm = ChatOpenAI(model=\"gpt-4o-mini\", temperature=0)\n",
    "\n",
    "tools = [search_tool]\n",
    "llm_with_tools = llm.bind_tools(tools)\n",
    "llm_with_tools.invoke(\"What is langgraph?\")"
   ]
  },
  {
   "cell_type": "code",
   "execution_count": 8,
   "metadata": {},
   "outputs": [
    {
     "data": {
      "text/plain": [
       "[{'name': 'tavily_search_results_json',\n",
       "  'args': {'query': 'langgraph'},\n",
       "  'id': 'call_RpCpq0VfxWCZCo4HgT1WWAee',\n",
       "  'type': 'tool_call'}]"
      ]
     },
     "execution_count": 8,
     "metadata": {},
     "output_type": "execute_result"
    }
   ],
   "source": [
    "# payload prepared by the LLM for calling the search tool\n",
    "output = llm_with_tools.invoke(\"What is langgraph?\")\n",
    "\n",
    "output.tool_calls"
   ]
  },
  {
   "cell_type": "code",
   "execution_count": 15,
   "metadata": {},
   "outputs": [],
   "source": [
    "from langgraph.graph import MessagesState\n",
    "\n",
    "class ResearchAssistantState(MessagesState):\n",
    "    pass"
   ]
  },
  {
   "cell_type": "code",
   "execution_count": 16,
   "metadata": {},
   "outputs": [],
   "source": [
    "def assistant(state: ResearchAssistantState):\n",
    "    sys_msg = \"You are a helpful assistant that can search \\\n",
    "        the web for information and return an organized mini report containing the answer with references used.\"\n",
    "    return {\"messages\":llm_with_tools.invoke([sys_msg] + state[\"messages\"])}"
   ]
  },
  {
   "cell_type": "code",
   "execution_count": 21,
   "metadata": {},
   "outputs": [
    {
     "data": {
      "image/jpeg": "[encoded data removed]",
      "text/plain": [
       "<IPython.core.display.Image object>"
      ]
     },
     "execution_count": 21,
     "metadata": {},
     "output_type": "execute_result"
    }
   ],
   "source": [
    "from langgraph.graph import StateGraph, START, END\n",
    "from langgraph.prebuilt import tools_condition, ToolNode\n",
    "from langgraph.checkpoint.memory import MemorySaver\n",
    "from IPython.display import Image\n",
    "\n",
    "builder = StateGraph(ResearchAssistantState)\n",
    "\n",
    "# Nodes\n",
    "builder.add_node(\"assistant\", assistant)\n",
    "builder.add_node(\"tools\", ToolNode(tools))\n",
    "\n",
    "# Edges \n",
    "builder.add_edge(START, \"assistant\")\n",
    "builder.add_conditional_edges(\"assistant\", tools_condition)\n",
    "builder.add_edge(\"tools\", \"assistant\")\n",
    "\n",
    "memory = MemorySaver()\n",
    "graph = builder.compile(checkpointer=memory)\n",
    "\n",
    "Image(graph.get_graph().draw_mermaid_png())"
   ]
  },
  {
   "cell_type": "code",
   "execution_count": 23,
   "metadata": {},
   "outputs": [
    {
     "name": "stdout",
     "output_type": "stream",
     "text": [
      "================================\u001b[1m Human Message \u001b[0m=================================\n",
      "\n",
      "Look up live-training courses by Lucas Soares at O'Reilly Media.\n",
      "==================================\u001b[1m Ai Message \u001b[0m==================================\n",
      "Tool Calls:\n",
      "  tavily_search_results_json (call_zamDN6iv5GxxSAIvgdDTvoKO)\n",
      " Call ID: call_zamDN6iv5GxxSAIvgdDTvoKO\n",
      "  Args:\n",
      "    query: live-training courses Lucas Soares site:oreilly.com\n",
      "=================================\u001b[1m Tool Message \u001b[0m=================================\n",
      "Name: tavily_search_results_json\n",
      "\n",
      "[{\"url\": \"https://www.oreilly.com/products/new-live-online-sessions.html\", \"content\": \"live online training. November 21, 2024. ... Crash Course. Presented by Chad Smith. Publisher(s): Pearson. live online training. December 16, 2024. Microsoft Copilot for Security Quick Start. Presented by Joseph Muniz, Erik Snyder. ... Presented by Lucas Soares. Publisher(s): O'Reilly Media, Inc. live online training.\"}, {\"url\": \"https://www.oreilly.com/live-events/getting-started-with-llm-agents-using-langchain/0790145047100/0790145047097/\", \"content\": \"live LangChain. Getting Started with LLM Agents using LangChain ... Course description. Join expert Lucas Soares to explore the capabilities of AI agents to perform complex tasks like browsing the internet, creating complex research workflows, generating automatic reports, and even making commits to a GitHub repository. ... Lucas Soares is an\"}, {\"url\": \"https://www.oreilly.com/live-events/ai-for-everyone/0642572007782/\", \"content\": \"Take Customize Your Own GPTs (live course with Lucas Soares) Take Generative AI for Everyone (live course with Altaf Rehmani) Take Using ChatGPT to Boost Your Personal Productivity (live course with David Griffiths) ... By integrating these practices into its training, Productside empowered product professionals to drive collaboration and\"}, {\"url\": \"https://learning.oreilly.com/live-events/ai-superstream-building-with-open-source-generative-ai-models-and-frameworks/0642572001655/0642572001654/\", \"content\": \"Take Getting Started with Llama 3 (live online course with Lucas Soares) Take Open Source Large Language Models in 3 Weeks (live online course with Christian Winkler) ... Denys Linkov discusses how Voiceflow optimizes prompts, including defining edge cases and curating training and evaluation data. He takes you through a case study of how\"}, {\"url\": \"https://www.oreilly.com/live-events/getting-started-with-llama-3/0636920098588/\", \"content\": \"Course outcomes. Develop a basic understanding of the Llama 3 architecture; Learn to download, install, and run Llama 3 models (7B, 13B and 70B models) ... Join expert Lucas Soares to get a solid introduction to Llama 3, the cutting-edge open source large language model developed and released by Meta. ... This live event is for you because\"}]\n",
      "==================================\u001b[1m Ai Message \u001b[0m==================================\n",
      "\n",
      "### Live Training Courses by Lucas Soares at O'Reilly Media\n",
      "\n",
      "Lucas Soares is actively involved in delivering live training courses at O'Reilly Media, focusing on various aspects of AI and machine learning. Here are some of the notable courses he is offering:\n",
      "\n",
      "1. **Getting Started with LLM Agents using LangChain**\n",
      "   - **Description**: This course explores the capabilities of AI agents to perform complex tasks such as browsing the internet, creating research workflows, generating reports, and making commits to GitHub.\n",
      "   - **Link**: [Getting Started with LLM Agents using LangChain](https://www.oreilly.com/live-events/getting-started-with-llm-agents-using-langchain/0790145047100/0790145047097/)\n",
      "\n",
      "2. **Getting Started with Llama 3**\n",
      "   - **Description**: This course provides a solid introduction to Llama 3, an open-source large language model developed by Meta. Participants will learn to download, install, and run various Llama 3 models.\n",
      "   - **Link**: [Getting Started with Llama 3](https://www.oreilly.com/live-events/getting-started-with-llama-3/0636920098588/)\n",
      "\n",
      "3. **AI for Everyone**\n",
      "   - **Description**: This course is designed to make AI accessible to all, covering fundamental concepts and applications.\n",
      "   - **Link**: [AI for Everyone](https://www.oreilly.com/live-events/ai-for-everyone/0642572007782/)\n",
      "\n",
      "4. **Open Source Large Language Models in 3 Weeks**\n",
      "   - **Description**: This course focuses on understanding and utilizing open-source large language models effectively.\n",
      "   - **Link**: [Open Source Large Language Models in 3 Weeks](https://www.oreilly.com/live-events/ai-superstream-building-with-open-source-generative-ai-models-and-frameworks/0642572001655/0642572001654/)\n",
      "\n",
      "### Additional Information\n",
      "For more details on upcoming live online sessions and other training opportunities, you can visit the O'Reilly Media live training page: [O'Reilly Live Online Sessions](https://www.oreilly.com/products/new-live-online-sessions.html).\n",
      "\n",
      "These courses are designed for individuals looking to enhance their skills in AI and machine learning, making them suitable for both beginners and experienced professionals.\n"
     ]
    }
   ],
   "source": [
    "from langchain_core.messages import HumanMessage\n",
    "\n",
    "config = {\"configurable\": {\"thread_id\": \"1\"}}\n",
    "\n",
    "output = graph.invoke({\"messages\": [\n",
    "    HumanMessage(content=\"Look up live-training courses by Lucas Soares at O'Reilly Media.\")]}, config=config)\n",
    "\n",
    "for m in output[\"messages\"]:\n",
    "    m.pretty_print()"
   ]
  },
  {
   "cell_type": "code",
   "execution_count": 24,
   "metadata": {},
   "outputs": [
    {
     "name": "stdout",
     "output_type": "stream",
     "text": [
      "================================\u001b[1m Human Message \u001b[0m=================================\n",
      "\n",
      "Look up live-training courses by Lucas Soares at O'Reilly Media.\n",
      "==================================\u001b[1m Ai Message \u001b[0m==================================\n",
      "Tool Calls:\n",
      "  tavily_search_results_json (call_zamDN6iv5GxxSAIvgdDTvoKO)\n",
      " Call ID: call_zamDN6iv5GxxSAIvgdDTvoKO\n",
      "  Args:\n",
      "    query: live-training courses Lucas Soares site:oreilly.com\n",
      "=================================\u001b[1m Tool Message \u001b[0m=================================\n",
      "Name: tavily_search_results_json\n",
      "\n",
      "[{\"url\": \"https://www.oreilly.com/products/new-live-online-sessions.html\", \"content\": \"live online training. November 21, 2024. ... Crash Course. Presented by Chad Smith. Publisher(s): Pearson. live online training. December 16, 2024. Microsoft Copilot for Security Quick Start. Presented by Joseph Muniz, Erik Snyder. ... Presented by Lucas Soares. Publisher(s): O'Reilly Media, Inc. live online training.\"}, {\"url\": \"https://www.oreilly.com/live-events/getting-started-with-llm-agents-using-langchain/0790145047100/0790145047097/\", \"content\": \"live LangChain. Getting Started with LLM Agents using LangChain ... Course description. Join expert Lucas Soares to explore the capabilities of AI agents to perform complex tasks like browsing the internet, creating complex research workflows, generating automatic reports, and even making commits to a GitHub repository. ... Lucas Soares is an\"}, {\"url\": \"https://www.oreilly.com/live-events/ai-for-everyone/0642572007782/\", \"content\": \"Take Customize Your Own GPTs (live course with Lucas Soares) Take Generative AI for Everyone (live course with Altaf Rehmani) Take Using ChatGPT to Boost Your Personal Productivity (live course with David Griffiths) ... By integrating these practices into its training, Productside empowered product professionals to drive collaboration and\"}, {\"url\": \"https://learning.oreilly.com/live-events/ai-superstream-building-with-open-source-generative-ai-models-and-frameworks/0642572001655/0642572001654/\", \"content\": \"Take Getting Started with Llama 3 (live online course with Lucas Soares) Take Open Source Large Language Models in 3 Weeks (live online course with Christian Winkler) ... Denys Linkov discusses how Voiceflow optimizes prompts, including defining edge cases and curating training and evaluation data. He takes you through a case study of how\"}, {\"url\": \"https://www.oreilly.com/live-events/getting-started-with-llama-3/0636920098588/\", \"content\": \"Course outcomes. Develop a basic understanding of the Llama 3 architecture; Learn to download, install, and run Llama 3 models (7B, 13B and 70B models) ... Join expert Lucas Soares to get a solid introduction to Llama 3, the cutting-edge open source large language model developed and released by Meta. ... This live event is for you because\"}]\n",
      "==================================\u001b[1m Ai Message \u001b[0m==================================\n",
      "\n",
      "### Live Training Courses by Lucas Soares at O'Reilly Media\n",
      "\n",
      "Lucas Soares is actively involved in delivering live training courses at O'Reilly Media, focusing on various aspects of AI and machine learning. Here are some of the notable courses he is offering:\n",
      "\n",
      "1. **Getting Started with LLM Agents using LangChain**\n",
      "   - **Description**: This course explores the capabilities of AI agents to perform complex tasks such as browsing the internet, creating research workflows, generating reports, and making commits to GitHub.\n",
      "   - **Link**: [Getting Started with LLM Agents using LangChain](https://www.oreilly.com/live-events/getting-started-with-llm-agents-using-langchain/0790145047100/0790145047097/)\n",
      "\n",
      "2. **Getting Started with Llama 3**\n",
      "   - **Description**: This course provides a solid introduction to Llama 3, an open-source large language model developed by Meta. Participants will learn to download, install, and run various Llama 3 models.\n",
      "   - **Link**: [Getting Started with Llama 3](https://www.oreilly.com/live-events/getting-started-with-llama-3/0636920098588/)\n",
      "\n",
      "3. **AI for Everyone**\n",
      "   - **Description**: This course is designed to make AI accessible to all, covering fundamental concepts and applications.\n",
      "   - **Link**: [AI for Everyone](https://www.oreilly.com/live-events/ai-for-everyone/0642572007782/)\n",
      "\n",
      "4. **Open Source Large Language Models in 3 Weeks**\n",
      "   - **Description**: This course focuses on understanding and utilizing open-source large language models effectively.\n",
      "   - **Link**: [Open Source Large Language Models in 3 Weeks](https://www.oreilly.com/live-events/ai-superstream-building-with-open-source-generative-ai-models-and-frameworks/0642572001655/0642572001654/)\n",
      "\n",
      "### Additional Information\n",
      "For more details on upcoming live online sessions and other training opportunities, you can visit the O'Reilly Media live training page: [O'Reilly Live Online Sessions](https://www.oreilly.com/products/new-live-online-sessions.html).\n",
      "\n",
      "These courses are designed for individuals looking to enhance their skills in AI and machine learning, making them suitable for both beginners and experienced professionals.\n",
      "================================\u001b[1m Human Message \u001b[0m=================================\n",
      "\n",
      "What did I ask you about?\n",
      "==================================\u001b[1m Ai Message \u001b[0m==================================\n",
      "\n",
      "You asked me to look up live training courses by Lucas Soares at O'Reilly Media.\n"
     ]
    }
   ],
   "source": [
    "message = HumanMessage(content=\"What did I ask you about?\")\n",
    "\n",
    "output = graph.invoke({\"messages\": [message]}, config=config)\n",
    "\n",
    "for m in output[\"messages\"]:\n",
    "    m.pretty_print()"
   ]
  },
  {
   "cell_type": "code",
   "execution_count": null,
   "metadata": {},
   "outputs": [],
   "source": []
  },
  {
   "cell_type": "code",
   "execution_count": null,
   "metadata": {},
   "outputs": [],
   "source": []
  },
  {
   "cell_type": "code",
   "execution_count": null,
   "metadata": {},
   "outputs": [],
   "source": []
  },
  {
   "cell_type": "code",
   "execution_count": null,
   "metadata": {},
   "outputs": [],
   "source": []
  }
 ],
 "metadata": {
  "kernelspec": {
   "display_name": "oreilly-langgraph",
   "language": "python",
   "name": "oreilly-langgraph"
  },
  "language_info": {
   "codemirror_mode": {
    "name": "ipython",
    "version": 3
   },
   "file_extension": ".py",
   "mimetype": "text/x-python",
   "name": "python",
   "nbconvert_exporter": "python",
   "pygments_lexer": "ipython3",
   "version": "3.11.10"
  }
 },
 "nbformat": 4,
 "nbformat_minor": 2
}
