{
 "cells": [
  {
   "cell_type": "markdown",
   "metadata": {},
   "source": [
    "# Tools in LangGraph\n",
    "\n",
    "Ok, so far we've covered the basics in LangGraph, we've learn the basics of working with `nodes`, `edges`, \n",
    "`states` and so on.\n",
    "\n",
    "However, the examples we've used so far only involved simple Python functions or easy llm calls using the \n",
    "`.invoke` method from langchain. What if we want to be able to have a model use a tool (external functionality of some sort)\n",
    "to be able to perform actions?"
   ]
  },
  {
   "cell_type": "markdown",
   "metadata": {},
   "source": [
    "We start by initializing a model and connecting this model to a tool using basic langchain code:"
   ]
  },
  {
   "cell_type": "code",
   "execution_count": null,
   "metadata": {},
   "outputs": [],
   "source": [
    "import getpass\n",
    "import os\n",
    "\n",
    "\n",
    "def _set_env(key: str):\n",
    "    if key not in os.environ:\n",
    "        os.environ[key] = getpass.getpass(f\"{key}:\")\n",
    "\n",
    "\n",
    "_set_env(\"OPENAI_API_KEY\")"
   ]
  },
  {
   "cell_type": "code",
   "execution_count": 1,
   "metadata": {},
   "outputs": [
    {
     "data": {
      "text/plain": [
       "AIMessage(content='Hello! How can I assist you today?', additional_kwargs={'refusal': None}, response_metadata={'token_usage': {'completion_tokens': 10, 'prompt_tokens': 8, 'total_tokens': 18, 'completion_tokens_details': {'accepted_prediction_tokens': 0, 'audio_tokens': 0, 'reasoning_tokens': 0, 'rejected_prediction_tokens': 0}, 'prompt_tokens_details': {'audio_tokens': 0, 'cached_tokens': 0}}, 'model_name': 'gpt-4o-mini-2024-07-18', 'system_fingerprint': 'fp_72ed7ab54c', 'finish_reason': 'stop', 'logprobs': None}, id='run-ce20f206-e9b8-496a-889d-91a7f796972c-0', usage_metadata={'input_tokens': 8, 'output_tokens': 10, 'total_tokens': 18, 'input_token_details': {'audio': 0, 'cache_read': 0}, 'output_token_details': {'audio': 0, 'reasoning': 0}})"
      ]
     },
     "execution_count": 1,
     "metadata": {},
     "output_type": "execute_result"
    }
   ],
   "source": [
    "from langchain_openai import ChatOpenAI\n",
    "\n",
    "llm = ChatOpenAI(model=\"gpt-4o-mini\")\n",
    "\n",
    "llm.invoke(\"Hi\")"
   ]
  },
  {
   "cell_type": "code",
   "execution_count": 3,
   "metadata": {},
   "outputs": [
    {
     "data": {
      "text/plain": [
       "AIMessage(content='', additional_kwargs={'tool_calls': [{'id': 'call_bvaIfmB3kO6M5tS4icXoldP6', 'function': {'arguments': '{\"a\":10,\"b\":23}', 'name': 'sum_2_numbers'}, 'type': 'function'}], 'refusal': None}, response_metadata={'token_usage': {'completion_tokens': 21, 'prompt_tokens': 54, 'total_tokens': 75, 'completion_tokens_details': {'accepted_prediction_tokens': 0, 'audio_tokens': 0, 'reasoning_tokens': 0, 'rejected_prediction_tokens': 0}, 'prompt_tokens_details': {'audio_tokens': 0, 'cached_tokens': 0}}, 'model_name': 'gpt-4o-mini-2024-07-18', 'system_fingerprint': 'fp_72ed7ab54c', 'finish_reason': 'tool_calls', 'logprobs': None}, id='run-75e02208-c501-4760-b59e-c5f70d3fe509-0', tool_calls=[{'name': 'sum_2_numbers', 'args': {'a': 10, 'b': 23}, 'id': 'call_bvaIfmB3kO6M5tS4icXoldP6', 'type': 'tool_call'}], usage_metadata={'input_tokens': 54, 'output_tokens': 21, 'total_tokens': 75, 'input_token_details': {'audio': 0, 'cache_read': 0}, 'output_token_details': {'audio': 0, 'reasoning': 0}})"
      ]
     },
     "execution_count": 3,
     "metadata": {},
     "output_type": "execute_result"
    }
   ],
   "source": [
    "def sum_2_numbers(a: int, b: int)-> int:\n",
    "    return a + b\n",
    "\n",
    "math_tools = [sum_2_numbers]\n",
    "\n",
    "llm_with_tools = llm.bind_tools(math_tools)\n",
    "\n",
    "output = llm_with_tools.invoke(\"What is the sum of 10 + 23?\")\n",
    "output"
   ]
  },
  {
   "cell_type": "markdown",
   "metadata": {},
   "source": [
    "When we give the model access to a python function that can sum 2 numbers, what the model can now if called is to generate the appropriate\n",
    "'call' to that function providing the right arguments. In the case of a simple request like \"What is the sum of 10 + 23?\",\n",
    "the model knows that the arguments for the function will be: `10` and `23`.\n",
    "\n",
    "However the output of the model is not an execution of that function, but instead this:"
   ]
  },
  {
   "cell_type": "code",
   "execution_count": 6,
   "metadata": {},
   "outputs": [
    {
     "data": {
      "text/plain": [
       "[{'name': 'sum_2_numbers',\n",
       "  'args': {'a': 10, 'b': 23},\n",
       "  'id': 'call_bvaIfmB3kO6M5tS4icXoldP6',\n",
       "  'type': 'tool_call'}]"
      ]
     },
     "execution_count": 6,
     "metadata": {},
     "output_type": "execute_result"
    }
   ],
   "source": [
    "output.tool_calls"
   ]
  },
  {
   "cell_type": "markdown",
   "metadata": {},
   "source": [
    "In this output we have the information needed to call the function:"
   ]
  },
  {
   "cell_type": "code",
   "execution_count": 8,
   "metadata": {},
   "outputs": [
    {
     "data": {
      "text/plain": [
       "33"
      ]
     },
     "execution_count": 8,
     "metadata": {},
     "output_type": "execute_result"
    }
   ],
   "source": [
    "tool_map = {\n",
    "    'sum_2_numbers': sum_2_numbers\n",
    "}\n",
    "func = tool_map[output.tool_calls[0]['name']]\n",
    "a = output.tool_calls[0]['args']['a']\n",
    "b = output.tool_calls[0]['args']['b']\n",
    "func(a,b)"
   ]
  },
  {
   "cell_type": "markdown",
   "metadata": {},
   "source": [
    "That's great! What if we want this functionality into a LangGraph graph?\n",
    "\n",
    "Simple! We can create a special node to handle these tool calls!\n",
    "\n",
    "LangGraph makes that super easy by providing us with something called a [`ToolNode`](https://arc.net/l/quote/oskkgoji) which can take care of executing\n",
    "the tool given the tool call output from an llm binded with that tool."
   ]
  },
  {
   "cell_type": "code",
   "execution_count": 16,
   "metadata": {},
   "outputs": [
    {
     "data": {
      "image/png": "[encoded data removed]",
      "text/plain": [
       "<IPython.core.display.Image object>"
      ]
     },
     "metadata": {},
     "output_type": "display_data"
    }
   ],
   "source": [
    "from langgraph.graph import StateGraph, START, END, MessagesState\n",
    "from langgraph.prebuilt import ToolNode, tools_condition\n",
    "from IPython.display import display, Image\n",
    "\n",
    "def sum_2_numbers(a: int, b: int)->int:\n",
    "    \"\"\"\n",
    "    Takes 2 arguments and returns their sum\n",
    "    \"\"\"\n",
    "    return a + b\n",
    "\n",
    "\n",
    "# Create our tool node\n",
    "tool_node = ToolNode([sum_2_numbers])\n",
    "\n",
    "# Create the graph\n",
    "workflow = StateGraph(MessagesState)\n",
    "\n",
    "# Add the LLM node that will generate tool calls\n",
    "def llm_node(state: MessagesState) -> MessagesState:\n",
    "    messages = state[\"messages\"]\n",
    "    response = llm_with_tools.invoke(messages)\n",
    "    return {\"messages\": [*messages, response]}\n",
    "\n",
    "# Add nodes and edges\n",
    "workflow.add_node(\"llm\", llm_node)\n",
    "workflow.add_node(\"tools\", tool_node)\n",
    "\n",
    "# Add edges\n",
    "workflow.add_edge(START, \"llm\")\n",
    "workflow.add_conditional_edges(\"llm\", tools_condition)\n",
    "workflow.add_edge(\"tools\", \"llm\")\n",
    "\n",
    "# Compile the graph\n",
    "graph = workflow.compile()\n",
    "\n",
    "try:\n",
    "    display(Image(graph.get_graph().draw_mermaid_png()))\n",
    "except Exception:\n",
    "    # This requires some extra dependencies and is optional\n",
    "    pass\n"
   ]
  },
  {
   "cell_type": "markdown",
   "metadata": {},
   "source": [
    "Notice that, instead of writing a routing function that encodes the logic for sending input to the ToolNode in case a tool call is made by the LLM\n",
    "what happens is that we use `tools_condition` to not have to explicitly write that (given that we use this a lot)."
   ]
  },
  {
   "cell_type": "code",
   "execution_count": 19,
   "metadata": {},
   "outputs": [
    {
     "data": {
      "text/plain": [
       "{'messages': [HumanMessage(content='Sum of 10 and 4?', additional_kwargs={}, response_metadata={}, id='018a460e-acff-41d3-a4f6-86e92dcee700'),\n",
       "  AIMessage(content='', additional_kwargs={'tool_calls': [{'id': 'call_6xFBMYP5rMaDTrU10g7xJZAQ', 'function': {'arguments': '{\"a\":10,\"b\":4}', 'name': 'sum_2_numbers'}, 'type': 'function'}], 'refusal': None}, response_metadata={'token_usage': {'completion_tokens': 21, 'prompt_tokens': 51, 'total_tokens': 72, 'completion_tokens_details': {'accepted_prediction_tokens': 0, 'audio_tokens': 0, 'reasoning_tokens': 0, 'rejected_prediction_tokens': 0}, 'prompt_tokens_details': {'audio_tokens': 0, 'cached_tokens': 0}}, 'model_name': 'gpt-4o-mini-2024-07-18', 'system_fingerprint': 'fp_72ed7ab54c', 'finish_reason': 'tool_calls', 'logprobs': None}, id='run-17081a88-e0e5-4d1b-b975-31b6017f04db-0', tool_calls=[{'name': 'sum_2_numbers', 'args': {'a': 10, 'b': 4}, 'id': 'call_6xFBMYP5rMaDTrU10g7xJZAQ', 'type': 'tool_call'}], usage_metadata={'input_tokens': 51, 'output_tokens': 21, 'total_tokens': 72, 'input_token_details': {'audio': 0, 'cache_read': 0}, 'output_token_details': {'audio': 0, 'reasoning': 0}}),\n",
       "  ToolMessage(content='14', name='sum_2_numbers', id='21fbfc9b-64c4-4dd8-a845-3b0a8c3e0fc5', tool_call_id='call_6xFBMYP5rMaDTrU10g7xJZAQ'),\n",
       "  AIMessage(content='The sum of 10 and 4 is 14.', additional_kwargs={'refusal': None}, response_metadata={'token_usage': {'completion_tokens': 14, 'prompt_tokens': 82, 'total_tokens': 96, 'completion_tokens_details': {'accepted_prediction_tokens': 0, 'audio_tokens': 0, 'reasoning_tokens': 0, 'rejected_prediction_tokens': 0}, 'prompt_tokens_details': {'audio_tokens': 0, 'cached_tokens': 0}}, 'model_name': 'gpt-4o-mini-2024-07-18', 'system_fingerprint': 'fp_72ed7ab54c', 'finish_reason': 'stop', 'logprobs': None}, id='run-9b73e1f0-909a-4f29-ae35-a0187989a6dd-0', usage_metadata={'input_tokens': 82, 'output_tokens': 14, 'total_tokens': 96, 'input_token_details': {'audio': 0, 'cache_read': 0}, 'output_token_details': {'audio': 0, 'reasoning': 0}})]}"
      ]
     },
     "execution_count": 19,
     "metadata": {},
     "output_type": "execute_result"
    }
   ],
   "source": [
    "graph.invoke({\"messages\": [\"Sum of 10 and 4?\"]})"
   ]
  }
 ],
 "metadata": {
  "kernelspec": {
   "display_name": "oreilly-langgraph",
   "language": "python",
   "name": "oreilly-langgraph"
  },
  "language_info": {
   "codemirror_mode": {
    "name": "ipython",
    "version": 3
   },
   "file_extension": ".py",
   "mimetype": "text/x-python",
   "name": "python",
   "nbconvert_exporter": "python",
   "pygments_lexer": "ipython3",
   "version": "3.11.10"
  }
 },
 "nbformat": 4,
 "nbformat_minor": 2
}
