{
 "cells": [
  {
   "cell_type": "markdown",
   "metadata": {},
   "source": [
    "# Quick Detour - What is a reducer function?"
   ]
  },
  {
   "cell_type": "code",
   "execution_count": 30,
   "metadata": {},
   "outputs": [],
   "source": [
    "from typing import Annotated\n",
    "from typing_extensions import TypedDict\n",
    "from langgraph.graph.message import add_messages, AnyMessage\n",
    "\n",
    "\n",
    "class MessagesState(TypedDict):\n",
    "    messages: Annotated[list[AnyMessage], add_messages] # we add messages when they go through nodes instead of overriding them.\n",
    "    "
   ]
  },
  {
   "cell_type": "code",
   "execution_count": 31,
   "metadata": {},
   "outputs": [],
   "source": [
    "def node1(state):\n",
    "    \n",
    "    return {\"messages\": [2]} # this will be added to the list instead of overriding the list!"
   ]
  },
  {
   "cell_type": "markdown",
   "metadata": {},
   "source": [
    "# Chaining Pattern for Quiz Generation"
   ]
  },
  {
   "cell_type": "markdown",
   "metadata": {},
   "source": [
    "Inspired by this [article by Anthropic](https://www.anthropic.com/research/building-effective-agents)."
   ]
  },
  {
   "cell_type": "markdown",
   "metadata": {},
   "source": [
    "<img src=\"./2025-02-10-20-01-19.png\" width=50%>"
   ]
  },
  {
   "cell_type": "code",
   "execution_count": 32,
   "metadata": {},
   "outputs": [],
   "source": [
    "import getpass\n",
    "import os\n",
    "\n",
    "\n",
    "def _set_env(key: str):\n",
    "    if key not in os.environ:\n",
    "        os.environ[key] = getpass.getpass(f\"{key}:\")\n",
    "\n",
    "\n",
    "_set_env(\"OPENAI_API_KEY\")"
   ]
  },
  {
   "cell_type": "code",
   "execution_count": 33,
   "metadata": {},
   "outputs": [],
   "source": [
    "from langchain_ollama import ChatOllama\n",
    "\n",
    "llm = ChatOllama(model=\"llama3.2\")\n",
    "\n",
    "llm_structured = ChatOllama(model=\"llama3.2\", format=\"json\")"
   ]
  },
  {
   "cell_type": "code",
   "execution_count": 34,
   "metadata": {},
   "outputs": [
    {
     "name": "stdout",
     "output_type": "stream",
     "text": [
      "You are a reviewer that scores the quality of quizzes based on input content.\n",
      "    Consider SOLELY this input below as the source: \n",
      " '''Persistence in LangGraph means keeping state information of the graph throughout its execution..'''\n",
      "    Now, analyse this quiz created based on the input source:\n",
      " '''1. What is life?'''. \n",
      "    Review this quiz and ONLY return:\n",
      "    - 'APPROVED' if the quiz is good enough, relevant and it covers well all the important contents of the original material. \n",
      "    - 'TO-REVIEW' if the quiz is not relevant to the original material showed above, or not comprehensive enough.\n",
      "    \n"
     ]
    },
    {
     "data": {
      "text/plain": [
       "'TO-REVIEW'"
      ]
     },
     "execution_count": 34,
     "metadata": {},
     "output_type": "execute_result"
    }
   ],
   "source": [
    "from pydantic import BaseModel, Field\n",
    "\n",
    "class ReviewOutput(BaseModel):\n",
    "    quiz_score: str = Field(description=\"'APPROVED' or 'TO-REVIEW'\")\n",
    "\n",
    "llm_reviewer_structured = llm.with_structured_output(ReviewOutput)\n",
    "\n",
    "input_source = \"Persistence in LangGraph means keeping state information of the graph throughout its execution.\"\n",
    "initial_quiz = \"1. What is life?\"\n",
    "\n",
    "review_prompt = f\"\"\"You are a reviewer that scores the quality of quizzes based on input content.\n",
    "    Consider SOLELY this input below as the source: \\n '''{input_source}.'''\n",
    "    Now, analyse this quiz created based on the input source:\\n '''{initial_quiz}'''. \n",
    "    Review this quiz and ONLY return:\n",
    "    - 'APPROVED' if the quiz is good enough, relevant and it covers well all the important contents of the original material. \n",
    "    - 'TO-REVIEW' if the quiz is not relevant to the original material showed above, or not comprehensive enough.\n",
    "    \"\"\"\n",
    "    \n",
    "print(review_prompt)\n",
    "output = llm_reviewer_structured.invoke(review_prompt)\n",
    "output.quiz_score"
   ]
  },
  {
   "cell_type": "code",
   "execution_count": 35,
   "metadata": {},
   "outputs": [],
   "source": [
    "from typing_extensions import TypedDict\n",
    "\n",
    "class QuizState(TypedDict):\n",
    "    input_source: str\n",
    "    n_questions: str\n",
    "    quiz: str\n",
    "    quiz_quality_score: str\n",
    "    improved_quiz: str"
   ]
  },
  {
   "cell_type": "code",
   "execution_count": 36,
   "metadata": {},
   "outputs": [],
   "source": [
    "from langgraph.graph import StateGraph, START, END\n",
    "\n",
    "def create_quiz(state: QuizState) -> QuizState:\n",
    "    n_questions = state[\"n_questions\"]\n",
    "    input_source = state[\"input_source\"]\n",
    "    quiz = llm.invoke(f\"Create a markdown styled quiz with {n_questions} given this content:\\n {input_source}\")\n",
    "    return {\"quiz\": quiz.content}\n",
    "\n",
    "def review_quiz(state: QuizState) -> QuizState:\n",
    "    input_source = state[\"input_source\"]\n",
    "    initial_quiz = state[\"quiz\"]\n",
    "    review_prompt = f\"\"\"You are a reviewer that scores the quality of quizzes based on input content.\n",
    "    Consider SOLELY this input below as the source: \\n '''{input_source}.'''\n",
    "    Now, analyse this quiz created based on the input source:\\n '''{initial_quiz}'''. \n",
    "    Review this quiz and ONLY return:\n",
    "    - 'APPROVED' if the quiz is good enough, relevant, has the right number of questions given the input and it\n",
    "    covers well all the important contents of the original material. \n",
    "    - 'TO-REVIEW' if the quiz is not relevant to the original material showed above, or not comprehensive enough.\n",
    "    \"\"\"\n",
    "    \n",
    "    quiz_quality_score_output = llm_reviewer_structured.invoke(review_prompt)\n",
    "    quiz_quality_score = quiz_quality_score_output.quiz_score\n",
    "    \n",
    "    return {\"quiz_quality_score\": quiz_quality_score}\n",
    "\n",
    "def route_quiz_feedback(state: QuizState) -> QuizState:\n",
    "    if state[\"quiz_quality_score\"]==\"APPROVED\":\n",
    "        return \"approved\"\n",
    "    elif state[\"quiz_quality_score\"]==\"TO-REVIEW\":\n",
    "        return \"improve\"\n",
    "    \n",
    "\n",
    "def write_improved_quiz(state: QuizState) -> QuizState:\n",
    "    \n",
    "    input_source = state[\"input_source\"]\n",
    "    initial_quiz = state[\"initial_quiz\"]\n",
    "    \n",
    "    prompt_improve_quiz = f\"\"\"This input was given as the ONLY source: \\n\\n '''{input_source}'''.\n",
    "    This is the first version of a quiz based only on this source: '''{initial_quiz}'''.\n",
    "    Write an improved version of this quiz by:\n",
    "    \n",
    "    1. Consider 3 points of improvement\n",
    "    2. Write the improved version of the quiz integrating the feedback\n",
    "    3. OUTPUT ONLY THE IMPROVED QUIZ AS A NUMBERED LIST.\"\"\"\n",
    "    \n",
    "    improved_quiz = llm.invoke(prompt_improve_quiz)\n",
    "    \n",
    "    return {\"improved_quiz\": improved_quiz.content}\n"
   ]
  },
  {
   "cell_type": "code",
   "execution_count": 37,
   "metadata": {},
   "outputs": [],
   "source": [
    "workflow = StateGraph(QuizState)\n",
    "\n",
    "workflow.add_node(\"create_quiz\", create_quiz)\n",
    "workflow.add_node(\"review_quiz\", review_quiz)\n",
    "workflow.add_node(\"improve_quiz\", write_improved_quiz)\n",
    "\n",
    "workflow.add_edge(START, \"create_quiz\")\n",
    "workflow.add_edge(\"create_quiz\", \"review_quiz\")\n",
    "workflow.add_conditional_edges(\"review_quiz\", route_quiz_feedback, {\"approved\": END, \"improve\": \"improve_quiz\"})\n",
    "workflow.add_edge(\"improve_quiz\", END)\n",
    "\n",
    "graph = workflow.compile()"
   ]
  },
  {
   "cell_type": "code",
   "execution_count": 38,
   "metadata": {},
   "outputs": [
    {
     "data": {
      "image/png": "[encoded data removed]",
      "text/plain": [
       "<IPython.core.display.Image object>"
      ]
     },
     "metadata": {},
     "output_type": "display_data"
    }
   ],
   "source": [
    "# from IPython.display import display, Image\n",
    "\n",
    "display(Image(graph.get_graph().draw_mermaid_png()))"
   ]
  },
  {
   "cell_type": "code",
   "execution_count": 39,
   "metadata": {},
   "outputs": [
    {
     "data": {
      "text/plain": [
       "{'input_source': '\\n1. Persistence in LangGraph means keeping state information of the graph throughout its execution\\n2. In LangGraph there are 2 fundamental questions to ask: 1. Which variables to track across the graph\\'s execution 2. Which intermediate artifacts are useful for debugging?\\n3. Sub-graphs in langgraph are graphs used as nodes in other graphs (need to share at least 1 key in the state schemas in order to communicate between sub graph and parent graph\\n4. Command in Langgraph is a node that works to update state and route to other nodes\\n5. Arguments for why a framework like langgraph can be useful:\\n    * Implementing foundational agentic patterns does not require a framework like LangGraph.\\n    * LangGraph aims to minimize overhead of implementing these patterns.\\n    * LangGraph provides supporting infrastructure underneath any workflow/agent.\\n\\n    Additionally, here is a breakdown of the specific features mentioned:\\n\\n    * Persistence:\\n    + Memory Area\\n    + Fullscreen Window\\n    + Scrolling\\n    + Timer\\n    + Aa (assuming \"Aa\" refers to some sort of annotation or feedback mechanism)\\n    + Recording\\n    * Human-In-The-Loop:\\n    + Allows for human intervention and oversight in the workflow/agent\\n    * Streaming:\\n    + Enables real-time processing of LLM calls or steps in a workflow/agent\\n',\n",
       " 'n_questions': 5,\n",
       " 'quiz': \"**LangGraph Fundamentals Quiz**\\n=====================================\\n\\n### Questions\\n\\n#### 1. What does persistence in LangGraph refer to?\\n\\n* A) The process of updating the graph's state\\n* B) Keeping state information of the graph throughout its execution\\n* C) Creating new sub-graphs\\n* D) Optimizing workflow performance\\n\\n#### Answer: B) Keeping state information of the graph throughout its execution\\n\\n#### 2. What are the two fundamental questions to ask when designing LangGraph?\\n\\n* A) Which nodes to include in the graph and which to exclude?\\n* B) Which variables to track across the graph's execution and which intermediate artifacts are useful for debugging?\\n* C) How to optimize the workflow for maximum efficiency\\n* D) What is the best way to handle human intervention in the workflow\\n\\n#### Answer: B) Which variables to track across the graph's execution and which intermediate artifacts are useful for debugging?\\n\\n#### 3. What is a sub-graph in LangGraph?\\n\\n* A) A node that processes input data\\n* B) A group of connected nodes that work together\\n* C) A separate instance of a workflow or agent\\n* D) A way to visualize the graph's structure\\n\\n#### Answer: C) A separate instance of a workflow or agent\\n\\n#### 4. What is a command in LangGraph?\\n\\n* A) A node that processes input data\\n* B) A type of intermediate artifact used for debugging\\n* C) A node that works to update state and route to other nodes\\n* D) A way to visualize the graph's structure\\n\\n#### Answer: C) A node that works to update state and route to other nodes\\n\\n#### 5. Why can a framework like LangGraph be useful?\\n\\n* A) Because it allows for human intervention in the workflow\\n* B) Because it provides supporting infrastructure underneath any workflow/agent\\n* C) Both A and B\\n* D) Neither A nor B\\n\\n#### Answer: C) Both A and B\",\n",
       " 'quiz_quality_score': 'APPROVED'}"
      ]
     },
     "execution_count": 39,
     "metadata": {},
     "output_type": "execute_result"
    }
   ],
   "source": [
    "input_source_raw = \"\"\"\n",
    "1. Persistence in LangGraph means keeping state information of the graph throughout its execution\n",
    "2. In LangGraph there are 2 fundamental questions to ask: 1. Which variables to track across the graph's execution 2. Which intermediate artifacts are useful for debugging?\n",
    "3. Sub-graphs in langgraph are graphs used as nodes in other graphs (need to share at least 1 key in the state schemas in order to communicate between sub graph and parent graph\n",
    "4. Command in Langgraph is a node that works to update state and route to other nodes\n",
    "5. Arguments for why a framework like langgraph can be useful:\n",
    "    * Implementing foundational agentic patterns does not require a framework like LangGraph.\n",
    "    * LangGraph aims to minimize overhead of implementing these patterns.\n",
    "    * LangGraph provides supporting infrastructure underneath any workflow/agent.\n",
    "\n",
    "    Additionally, here is a breakdown of the specific features mentioned:\n",
    "\n",
    "    * Persistence:\n",
    "    + Memory Area\n",
    "    + Fullscreen Window\n",
    "    + Scrolling\n",
    "    + Timer\n",
    "    + Aa (assuming \"Aa\" refers to some sort of annotation or feedback mechanism)\n",
    "    + Recording\n",
    "    * Human-In-The-Loop:\n",
    "    + Allows for human intervention and oversight in the workflow/agent\n",
    "    * Streaming:\n",
    "    + Enables real-time processing of LLM calls or steps in a workflow/agent\n",
    "\"\"\"\n",
    "\n",
    "output = graph.invoke({\"input_source\": input_source_raw,\n",
    "                       \"n_questions\": 5})\n",
    "\n",
    "output"
   ]
  },
  {
   "cell_type": "code",
   "execution_count": 40,
   "metadata": {},
   "outputs": [
    {
     "data": {
      "text/markdown": [
       "**LangGraph Fundamentals Quiz**\n",
       "=====================================\n",
       "\n",
       "### Questions\n",
       "\n",
       "#### 1. What does persistence in LangGraph refer to?\n",
       "\n",
       "* A) The process of updating the graph's state\n",
       "* B) Keeping state information of the graph throughout its execution\n",
       "* C) Creating new sub-graphs\n",
       "* D) Optimizing workflow performance\n",
       "\n",
       "#### Answer: B) Keeping state information of the graph throughout its execution\n",
       "\n",
       "#### 2. What are the two fundamental questions to ask when designing LangGraph?\n",
       "\n",
       "* A) Which nodes to include in the graph and which to exclude?\n",
       "* B) Which variables to track across the graph's execution and which intermediate artifacts are useful for debugging?\n",
       "* C) How to optimize the workflow for maximum efficiency\n",
       "* D) What is the best way to handle human intervention in the workflow\n",
       "\n",
       "#### Answer: B) Which variables to track across the graph's execution and which intermediate artifacts are useful for debugging?\n",
       "\n",
       "#### 3. What is a sub-graph in LangGraph?\n",
       "\n",
       "* A) A node that processes input data\n",
       "* B) A group of connected nodes that work together\n",
       "* C) A separate instance of a workflow or agent\n",
       "* D) A way to visualize the graph's structure\n",
       "\n",
       "#### Answer: C) A separate instance of a workflow or agent\n",
       "\n",
       "#### 4. What is a command in LangGraph?\n",
       "\n",
       "* A) A node that processes input data\n",
       "* B) A type of intermediate artifact used for debugging\n",
       "* C) A node that works to update state and route to other nodes\n",
       "* D) A way to visualize the graph's structure\n",
       "\n",
       "#### Answer: C) A node that works to update state and route to other nodes\n",
       "\n",
       "#### 5. Why can a framework like LangGraph be useful?\n",
       "\n",
       "* A) Because it allows for human intervention in the workflow\n",
       "* B) Because it provides supporting infrastructure underneath any workflow/agent\n",
       "* C) Both A and B\n",
       "* D) Neither A nor B\n",
       "\n",
       "#### Answer: C) Both A and B"
      ],
      "text/plain": [
       "<IPython.core.display.Markdown object>"
      ]
     },
     "execution_count": 40,
     "metadata": {},
     "output_type": "execute_result"
    }
   ],
   "source": [
    "from IPython.display import Markdown\n",
    "\n",
    "Markdown(output[\"quiz\"])"
   ]
  },
  {
   "cell_type": "markdown",
   "metadata": {},
   "source": [
    "# Parallel Pattern"
   ]
  },
  {
   "cell_type": "code",
   "execution_count": 2,
   "metadata": {},
   "outputs": [],
   "source": [
    "# Parallel Pattern with LangGraph\n",
    "from typing_extensions import TypedDict\n",
    "from IPython.display import display, Image\n",
    "from langgraph.graph import StateGraph, END, START\n",
    "from langchain_ollama import ChatOllama"
   ]
  },
  {
   "cell_type": "code",
   "execution_count": null,
   "metadata": {},
   "outputs": [],
   "source": [
    "class ExplainationState(TypedDict):\n",
    "    question: str\n",
    "    analogy: str\n",
    "    examples: str\n",
    "    plain_english: str\n",
    "    technical_definition: str\n",
    "    full_explanation: str\n",
    "\n",
    "\n",
    "\n",
    "llm = ChatOllama(model=\"llama3.2\")\n",
    "def generate_analogy(state: ExplainationState)->ExplainationState:\n",
    "    \n",
    "    question = state[\"question\"]\n",
    "    analogy_prompt = f\"\"\"\n",
    "    Given this question by the user:\n",
    "    {question}\n",
    "    Explain it by providing an analogy to help.\n",
    "    \"\"\"\n",
    "    analogy_output = llm.invoke(analogy_prompt)\n",
    "    return {\"analogy\":  analogy_output.content}\n",
    "\n",
    "def generate_example(state: ExplainationState)->ExplainationState:\n",
    "    question = state[\"question\"]\n",
    "    example_prompt = f\"\"\"Given this question by the user: \n",
    "    {question}\n",
    "    Provide 3 examples to help clarify it or demonstrate it in context.\n",
    "    Your OUTPUT SHOULD ONLY BE the examples as a bullet point list.\"\"\"\n",
    "    \n",
    "    examples_output = llm.invoke(example_prompt)\n",
    "    \n",
    "    return {\"examples\": examples_output.content}\n",
    "\n",
    "def explain_plain_english(state: ExplainationState)->ExplainationState:\n",
    "    question = state[\"question\"]\n",
    "    \n",
    "    plain_english_prompt = f\"\"\"\n",
    "    Given this question by the user:\n",
    "    {question}\n",
    "    Explain it in simple plain english terms in less than 2 paragraphs.\n",
    "    Output plain english explanation:\n",
    "    \"\"\"\n",
    "    output_plain_english = llm.invoke(plain_english_prompt)\n",
    "\n",
    "    return {\"plain_english\":output_plain_english.content}\n",
    "\n",
    "def explain_technical_definition(state: ExplainationState)->ExplainationState:\n",
    "    question = state[\"question\"]\n",
    "    \n",
    "    technical_definition_prompt = f\"\"\"\n",
    "    Given this question by the user:\n",
    "    {question}\n",
    "    Explain it in technical terms not using more than 2 paragraphs. Make sure to be rigid and\n",
    "    give the official technical definition required that answers the question.\n",
    "    Output technical definition:\n",
    "    \"\"\"\n",
    "    technical_definition_output = llm.invoke(technical_definition_prompt)\n",
    "    return {\"technical_definition\": technical_definition_output.content}\n",
    "\n",
    "def generate_final_explanation(state: ExplainationState)->ExplainationState:\n",
    "\n",
    "    question = state[\"question\"]\n",
    "    analogy = state[\"analogy\"]\n",
    "    examples = state[\"examples\"]\n",
    "    plain_english = state[\"plain_english\"]\n",
    "    technical_definition = state[\"technical_definition\"]\n",
    "    \n",
    "    full_explanation = f\"\"\"\n",
    "    # Final answer\n",
    "    \n",
    "    ## Analogy\n",
    "    \n",
    "    {analogy}\n",
    "    \n",
    "    ## Examples\n",
    "    \n",
    "    {examples}\n",
    "    \n",
    "    ## Plain English\n",
    "    \n",
    "    {plain_english}\n",
    "    \n",
    "    ## Technical Definition\n",
    "    \n",
    "    {technical_definition}\n",
    "    \n",
    "    \"\"\"\n",
    "    \n",
    "    return {\"full_explanation\": full_explanation}"
   ]
  },
  {
   "cell_type": "code",
   "execution_count": null,
   "metadata": {},
   "outputs": [],
   "source": [
    "workflow = StateGraph(ExplainationState)\n",
    "\n",
    "workflow.add_node(\"generate_analogy\",generate_analogy)\n",
    "workflow.add_node(\"generate_example\",generate_example)\n",
    "workflow.add_node(\"explain_plain_english\",explain_plain_english)\n",
    "workflow.add_node(\"explain_technical_definition\",explain_technical_definition)\n",
    "workflow.add_node(\"generate_final_explanation\",generate_final_explanation)\n",
    "\n",
    "workflow.add_edge(START, \"generate_analogy\")\n",
    "workflow.add_edge(START, \"generate_example\")\n",
    "workflow.add_edge(START, \"explain_plain_english\")\n",
    "workflow.add_edge(START,\"explain_technical_definition\")\n",
    "\n",
    "workflow.add_edge(\"generate_analogy\",\"generate_final_explanation\")\n",
    "workflow.add_edge(\"generate_example\",\"generate_final_explanation\")\n",
    "workflow.add_edge(\"explain_plain_english\",\"generate_final_explanation\")\n",
    "workflow.add_edge(\"explain_technical_definition\",\"generate_final_explanation\")\n",
    "workflow.add_edge(\"generate_final_explanation\",END)\n",
    "\n",
    "graph = workflow.compile()\n",
    "\n",
    "display(Image(graph.get_graph().draw_mermaid_png()))\n",
    "graph.invoke({\"question\": \"Explain the concept of self-attention in transformers (context is large language models).\"})"
   ]
  },
  {
   "cell_type": "markdown",
   "metadata": {},
   "source": [
    "# Routing\n",
    "\n",
    "Let's look at a simple example of routing between LLMs. We'll create a workflow that:\n",
    "\n",
    "1. Takes a user question\n",
    "2. Routes it to one of three specialized agents:\n",
    "   - Code explanation agent\n",
    "   - Math problem solver\n",
    "   - General knowledge agent\n",
    "3. Gets the specialized response"
   ]
  },
  {
   "cell_type": "markdown",
   "metadata": {},
   "source": [
    "For this example we will be using an LLM with [structured output](https://platform.openai.com/docs/guides/structured-outputs) capabilities\n",
    "in order to obtain an output from the LLM in a controllable format (json) which we can then extract a key that will\n",
    "be used to route a question to one of 3 different LLMs (containing different prompts)."
   ]
  },
  {
   "cell_type": "code",
   "execution_count": 28,
   "metadata": {},
   "outputs": [
    {
     "data": {
      "image/png": "[encoded data removed]",
      "text/plain": [
       "<IPython.core.display.Image object>"
      ]
     },
     "metadata": {},
     "output_type": "display_data"
    }
   ],
   "source": [
    "from typing import Annotated, TypedDict\n",
    "from langgraph.graph import StateGraph, END\n",
    "from pydantic import BaseModel, Field\n",
    "from langchain_openai import ChatOpenAI\n",
    "\n",
    "# Define our state\n",
    "class RoutingState(TypedDict):\n",
    "    question: str  # Input question\n",
    "    category: str | None # Routing classification\n",
    "    answer: str | None  # Final answer\n",
    "\n",
    "class QuestionType(BaseModel):\n",
    "    category: str = Field(description=\"The category classification of the question: CODE or MATH or GENERAL\")\n",
    "\n",
    "llm = ChatOpenAI(model=\"gpt-4o\")\n",
    "llm_with_structured_output = llm.with_structured_output(QuestionType)\n",
    "\n",
    "# Router that classifies the question\n",
    "def route_question(state: RoutingState):\n",
    "    question = state[\"question\"]\n",
    "    response = llm_with_structured_output.invoke(\n",
    "        f\"\"\"Classify this question into exactly ONE category:\n",
    "        - CODE if about programming/coding\n",
    "        - MATH if about mathematical calculations\n",
    "        - GENERAL for general knowledge\n",
    "        Question: {question}\n",
    "        Category:\"\"\"\n",
    "    )\n",
    "    print(response)\n",
    "    return {\"category\": response.category}\n",
    "\n",
    "# Specialized agents\n",
    "def code_expert(state: RoutingState):\n",
    "    print(\"Using code expert!\")\n",
    "    return {\"answer\": llm.invoke(f\"As a coding expert, answer: {state['question']}\")}\n",
    "\n",
    "def math_expert(state: RoutingState):\n",
    "    print(\"Using math expert\")\n",
    "    return {\"answer\": llm.invoke(f\"As a math expert, solve: {state['question']}\")}\n",
    "\n",
    "def general_expert(state: RoutingState):\n",
    "    print(\"Using general expert\")\n",
    "    return {\"answer\": llm.invoke(f\"Answer this general question: {state['question']}\")}\n",
    "\n",
    "# Define routing logic\n",
    "def router(state: RoutingState):\n",
    "    if state[\"category\"] == \"CODE\":\n",
    "        return \"code_expert\"\n",
    "    elif state[\"category\"] == \"MATH\":\n",
    "        return \"math_expert\"\n",
    "    else:\n",
    "        return \"general_expert\"\n",
    "\n",
    "# Create and configure workflow\n",
    "workflow = StateGraph(RoutingState)\n",
    "\n",
    "# Add nodes\n",
    "workflow.add_node(\"route\", route_question)\n",
    "workflow.add_node(\"code_expert\", code_expert)\n",
    "workflow.add_node(\"math_expert\", math_expert) \n",
    "workflow.add_node(\"general_expert\", general_expert)\n",
    "\n",
    "# Add edges\n",
    "workflow.add_edge(START, \"route\")\n",
    "workflow.add_conditional_edges(\n",
    "    \"route\",\n",
    "    router,\n",
    "    {\n",
    "        \"code_expert\": \"code_expert\",\n",
    "        \"math_expert\": \"math_expert\",\n",
    "        \"general_expert\": \"general_expert\"\n",
    "    }\n",
    ")\n",
    "workflow.add_edge(\"code_expert\", END)\n",
    "workflow.add_edge(\"math_expert\", END)\n",
    "workflow.add_edge(\"general_expert\", END)\n",
    "\n",
    "# Compile and run\n",
    "graph = workflow.compile()\n",
    "\n",
    "try:\n",
    "    display(Image(graph.get_graph().draw_mermaid_png()))\n",
    "except Exception:\n",
    "    # This requires some extra dependencies and is optional\n",
    "    pass"
   ]
  },
  {
   "cell_type": "code",
   "execution_count": 29,
   "metadata": {},
   "outputs": [
    {
     "name": "stdout",
     "output_type": "stream",
     "text": [
      "category='CODE'\n",
      "Using code expert!\n"
     ]
    },
    {
     "data": {
      "text/plain": [
       "{'question': 'What is the time complexity of quicksort?',\n",
       " 'category': 'CODE',\n",
       " 'answer': AIMessage(content='The time complexity of the quicksort algorithm can vary depending on the circumstances:\\n\\n1. **Average Case:** The average time complexity of quicksort is \\\\(O(n \\\\log n)\\\\), where \\\\(n\\\\) is the number of elements in the array. This is because the partitioning process divides the array into two parts, and the recursion depth is approximately \\\\(\\\\log n\\\\), with each level of recursion requiring \\\\(O(n)\\\\) work to partition the array.\\n\\n2. **Best Case:** The best-case time complexity is also \\\\(O(n \\\\log n)\\\\). This occurs when the pivot selection results in equally balanced partitions at each step, leading to a perfectly balanced recursive tree.\\n\\n3. **Worst Case:** The worst-case time complexity is \\\\(O(n^2)\\\\). This occurs when the pivot selection results in highly unbalanced partitions, such as when the smallest or largest element is consistently chosen as the pivot. An example of this situation is when the array is already sorted (or reverse sorted) and the first or last element is chosen as the pivot.\\n\\nTo mitigate the worst-case scenario, techniques such as using a random pivot or the \"median-of-three\" method for pivot selection are often employed, which help ensure that quicksort operates closer to its average-case complexity in practice.', additional_kwargs={'refusal': None}, response_metadata={'token_usage': {'completion_tokens': 260, 'prompt_tokens': 23, 'total_tokens': 283, 'completion_tokens_details': {'accepted_prediction_tokens': 0, 'audio_tokens': 0, 'reasoning_tokens': 0, 'rejected_prediction_tokens': 0}, 'prompt_tokens_details': {'audio_tokens': 0, 'cached_tokens': 0}}, 'model_name': 'gpt-4o-2024-08-06', 'system_fingerprint': 'fp_50cad350e4', 'finish_reason': 'stop', 'logprobs': None}, id='run-675a3b9d-a5aa-40b0-8191-05f74f6fbe68-0', usage_metadata={'input_tokens': 23, 'output_tokens': 260, 'total_tokens': 283, 'input_token_details': {'audio': 0, 'cache_read': 0}, 'output_token_details': {'audio': 0, 'reasoning': 0}})}"
      ]
     },
     "execution_count": 29,
     "metadata": {},
     "output_type": "execute_result"
    }
   ],
   "source": [
    "graph.invoke({\n",
    "     \"question\": \"What is the time complexity of quicksort?\",   # Routes to code expert\n",
    "     \"category\": None,\n",
    "     \"answer\": None\n",
    " })"
   ]
  }
 ],
 "metadata": {
  "kernelspec": {
   "display_name": "oreilly-langgraph",
   "language": "python",
   "name": "oreilly-langgraph"
  },
  "language_info": {
   "codemirror_mode": {
    "name": "ipython",
    "version": 3
   },
   "file_extension": ".py",
   "mimetype": "text/x-python",
   "name": "python",
   "nbconvert_exporter": "python",
   "pygments_lexer": "ipython3",
   "version": "3.11.10"
  }
 },
 "nbformat": 4,
 "nbformat_minor": 2
}
